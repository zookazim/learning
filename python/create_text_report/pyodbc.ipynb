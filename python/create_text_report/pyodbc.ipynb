{
 "cells": [
  {
   "cell_type": "markdown",
   "metadata": {},
   "source": [
    "# Pyodbc techniques"
   ]
  },
  {
   "cell_type": "markdown",
   "metadata": {},
   "source": [
    "## 1. Create Connection"
   ]
  },
  {
   "cell_type": "code",
   "execution_count": 2,
   "metadata": {},
   "outputs": [],
   "source": [
    "import pyodbc"
   ]
  },
  {
   "cell_type": "markdown",
   "metadata": {},
   "source": [
    "Connection details;"
   ]
  },
  {
   "cell_type": "code",
   "execution_count": 20,
   "metadata": {},
   "outputs": [],
   "source": [
    "SERVER = \"WSSQL0024\\DIS_DEV\"\n",
    "DATABASE = \"DW_Research_Outputs\"\n",
    "#USERNAME = '<username>'\n",
    "#PASSWORD = '<password>'"
   ]
  },
  {
   "cell_type": "markdown",
   "metadata": {},
   "source": [
    "Establish connection;"
   ]
  },
  {
   "cell_type": "code",
   "execution_count": 21,
   "metadata": {},
   "outputs": [],
   "source": [
    "conn_str = (\"Driver={ODBC Driver 17 for SQL Server};\" f\"Server={SERVER};\" f\"Database={DATABASE};\" \"Trusted_Connection=yes;\" \"LoginTimeout=500;\")\n",
    "conn = pyodbc.connect(conn_str) \n",
    "cursor = conn.cursor()"
   ]
  },
  {
   "cell_type": "markdown",
   "metadata": {},
   "source": [
    "## 2. Print data in rows using format"
   ]
  },
  {
   "cell_type": "code",
   "execution_count": 22,
   "metadata": {},
   "outputs": [
    {
     "name": "stdout",
     "output_type": "stream",
     "text": [
      "SEIFA\n"
     ]
    }
   ],
   "source": [
    "# Literal\n",
    "sql_query = \"SELECT VariableName FROM [DW_Research_Outputs].[MET].[Vw_MasterVariables] where VariableID = 641\"\n",
    "\n",
    "cursor.execute(sql_query)\n",
    "\n",
    "cur_data = cursor.fetchall()\n",
    "\n",
    "for var_row in cur_data:\n",
    "    print(var_row.VariableName)"
   ]
  },
  {
   "cell_type": "code",
   "execution_count": 23,
   "metadata": {},
   "outputs": [
    {
     "name": "stdout",
     "output_type": "stream",
     "text": [
      "SEIFA\n"
     ]
    }
   ],
   "source": [
    "# Format string\n",
    "var_id = 641\n",
    "sql_query = f'''SELECT * FROM [DW_Research_Outputs].[MET].[Vw_MasterVariables] where VariableID = {var_id}'''\n",
    "\n",
    "cursor.execute(sql_query)\n",
    "\n",
    "cur_data = cursor.fetchall()\n",
    "\n",
    "for var_row in cur_data:\n",
    "    print(var_row.VariableName)"
   ]
  },
  {
   "cell_type": "code",
   "execution_count": 24,
   "metadata": {},
   "outputs": [
    {
     "name": "stdout",
     "output_type": "stream",
     "text": [
      "SEIFA\n"
     ]
    }
   ],
   "source": [
    "# Bind variables\n",
    "var_id = 641\n",
    "\n",
    "sql_query = 'SELECT * FROM [DW_Research_Outputs].[MET].[Vw_MasterVariables] where VariableID = ?'\n",
    "sql_params = (var_id)\n",
    "\n",
    "cursor.execute(sql_query,sql_params)\n",
    "\n",
    "cur_data = cursor.fetchall()\n",
    "\n",
    "for var_row in cur_data:\n",
    "    print(var_row.VariableName)"
   ]
  },
  {
   "cell_type": "code",
   "execution_count": 25,
   "metadata": {},
   "outputs": [
    {
     "name": "stdout",
     "output_type": "stream",
     "text": [
      "SEIFA\n"
     ]
    }
   ],
   "source": [
    "# Complex Bind variables (integers and text)\n",
    "var_id = 641\n",
    "data_source_name = 'Emergency Data'\n",
    "sql_query = 'SELECT * FROM [DW_Research_Outputs].[MET].[Vw_MasterVariables] where VariableID = ? and DataSourceName = ?'\n",
    "#sql_cmd = 'EXECUTE PRJ.usp_RO_ProjectSqlStore(?,?)'\n",
    "sql_params = (var_id, data_source_name)\n",
    "\n",
    "cursor.execute(sql_query, sql_params)\n",
    "\n",
    "cur_data = cursor.fetchall()\n",
    "\n",
    "for var_row in cur_data:\n",
    "    print(var_row.VariableName)"
   ]
  },
  {
   "cell_type": "code",
   "execution_count": 39,
   "metadata": {},
   "outputs": [
    {
     "ename": "ProgrammingError",
     "evalue": "('42000', \"[42000] [Microsoft][ODBC Driver 17 for SQL Server][SQL Server]Data modification failed on system-versioned table 'DW_Research_Outputs.PRJ.ProjectSql' because transaction time was earlier than period start time for affected records. (13535) (SQLExecDirectW); [42000] [Microsoft][ODBC Driver 17 for SQL Server][SQL Server]\\r (0); [42000] [Microsoft][ODBC Driver 17 for SQL Server][SQL Server]2024-05-02 15:39:12 : Start of procedure, DW_Research_Outputs.PRJ.usp_RO_ProjectSqlStore (0); [42000] [Microsoft][ODBC Driver 17 for SQL Server][SQL Server]2024-05-02 15:39:12 : Getting JobRunId... (0); [42000] [Microsoft][ODBC Driver 17 for SQL Server][SQL Server]2024-05-02 15:39:12 : JobRunId is 201992 (0); [42000] [Microsoft][ODBC Driver 17 for SQL Server][SQL Server]2024-05-02 15:39:12 : Starting merge ... BatchRunId = 80972, SqlType = TypeA (0); [42000] [Microsoft][ODBC Driver 17 for SQL Server][SQL Server]2024-05-02 15:39:12 : End of procedure with errors, DW_Research_Outputs.PRJ.usp_RO_ProjectSqlStore (0)\")",
     "output_type": "error",
     "traceback": [
      "\u001b[1;31m---------------------------------------------------------------------------\u001b[0m",
      "\u001b[1;31mProgrammingError\u001b[0m                          Traceback (most recent call last)",
      "\u001b[1;32m<ipython-input-39-2c1b661f88bb>\u001b[0m in \u001b[0;36m<module>\u001b[1;34m\u001b[0m\n\u001b[0;32m     14\u001b[0m \u001b[0msql_params\u001b[0m \u001b[1;33m=\u001b[0m \u001b[1;33m(\u001b[0m\u001b[0mBatchRunId\u001b[0m\u001b[1;33m,\u001b[0m\u001b[0mExtractionId\u001b[0m\u001b[1;33m,\u001b[0m\u001b[0mRunPhase\u001b[0m\u001b[1;33m,\u001b[0m\u001b[0mRunSequence\u001b[0m\u001b[1;33m,\u001b[0m\u001b[0mDataSourceId\u001b[0m\u001b[1;33m,\u001b[0m\u001b[0mSqlDescription\u001b[0m\u001b[1;33m,\u001b[0m\u001b[0mSqlText\u001b[0m\u001b[1;33m)\u001b[0m\u001b[1;33m\u001b[0m\u001b[1;33m\u001b[0m\u001b[0m\n\u001b[0;32m     15\u001b[0m \u001b[1;33m\u001b[0m\u001b[0m\n\u001b[1;32m---> 16\u001b[1;33m \u001b[0mcursor\u001b[0m\u001b[1;33m.\u001b[0m\u001b[0mexecute\u001b[0m\u001b[1;33m(\u001b[0m\u001b[0msql_query\u001b[0m\u001b[1;33m,\u001b[0m \u001b[0msql_params\u001b[0m\u001b[1;33m)\u001b[0m\u001b[1;33m\u001b[0m\u001b[1;33m\u001b[0m\u001b[0m\n\u001b[0m\u001b[0;32m     17\u001b[0m \u001b[1;31m#cursor.execute('EXECUTE PRJ.usp_RO_ProjectSqlStore ?',(80972,))\u001b[0m\u001b[1;33m\u001b[0m\u001b[1;33m\u001b[0m\u001b[1;33m\u001b[0m\u001b[0m\n\u001b[0;32m     18\u001b[0m \u001b[0mcursor\u001b[0m\u001b[1;33m.\u001b[0m\u001b[0mcommit\u001b[0m\u001b[1;33m\u001b[0m\u001b[1;33m\u001b[0m\u001b[0m\n",
      "\u001b[1;31mProgrammingError\u001b[0m: ('42000', \"[42000] [Microsoft][ODBC Driver 17 for SQL Server][SQL Server]Data modification failed on system-versioned table 'DW_Research_Outputs.PRJ.ProjectSql' because transaction time was earlier than period start time for affected records. (13535) (SQLExecDirectW); [42000] [Microsoft][ODBC Driver 17 for SQL Server][SQL Server]\\r (0); [42000] [Microsoft][ODBC Driver 17 for SQL Server][SQL Server]2024-05-02 15:39:12 : Start of procedure, DW_Research_Outputs.PRJ.usp_RO_ProjectSqlStore (0); [42000] [Microsoft][ODBC Driver 17 for SQL Server][SQL Server]2024-05-02 15:39:12 : Getting JobRunId... (0); [42000] [Microsoft][ODBC Driver 17 for SQL Server][SQL Server]2024-05-02 15:39:12 : JobRunId is 201992 (0); [42000] [Microsoft][ODBC Driver 17 for SQL Server][SQL Server]2024-05-02 15:39:12 : Starting merge ... BatchRunId = 80972, SqlType = TypeA (0); [42000] [Microsoft][ODBC Driver 17 for SQL Server][SQL Server]2024-05-02 15:39:12 : End of procedure with errors, DW_Research_Outputs.PRJ.usp_RO_ProjectSqlStore (0)\")"
     ]
    }
   ],
   "source": [
    "# Complex Bind variables (integers and text)\n",
    "# another example\n",
    "\n",
    "BatchRunId     = 80972\n",
    "ExtractionId   = 5789\n",
    "RunPhase       = \"TypeA\"\n",
    "RunSequence    = 1\n",
    "DataSourceId   = 7\n",
    "SqlDescription = \"\"\n",
    "SqlText        = \"SELECT colA, colB  FROM [DW_Research_Outputs].[PRJ].[ProjectSql]\"\n",
    "\n",
    "\n",
    "sql_query = 'EXECUTE PRJ.usp_RO_ProjectSqlStore ?,?,?,?,?,?,?'\n",
    "sql_params = (BatchRunId,ExtractionId,RunPhase,RunSequence,DataSourceId,SqlDescription,SqlText)\n",
    "\n",
    "cur_out = cursor.execute(sql_query, sql_params)\n",
    "#cursor.execute('EXECUTE PRJ.usp_RO_ProjectSqlStore ?',(80972,))\n",
    "cursor.commit\n",
    "\n",
    "# cur_data = cursor.fetchall()\n",
    "\n",
    "# for var_row in cur_data:\n",
    "#     print(var_row.VariableName)"
   ]
  },
  {
   "cell_type": "code",
   "execution_count": 34,
   "metadata": {},
   "outputs": [
    {
     "data": {
      "text/plain": [
       "<function Cursor.commit>"
      ]
     },
     "execution_count": 34,
     "metadata": {},
     "output_type": "execute_result"
    }
   ],
   "source": [
    "cursor.commit"
   ]
  }
 ],
 "metadata": {
  "kernelspec": {
   "display_name": "my_env",
   "language": "python",
   "name": "python3"
  },
  "language_info": {
   "codemirror_mode": {
    "name": "ipython",
    "version": 3
   },
   "file_extension": ".py",
   "mimetype": "text/x-python",
   "name": "python",
   "nbconvert_exporter": "python",
   "pygments_lexer": "ipython3",
   "version": "3.8.3"
  },
  "orig_nbformat": 4
 },
 "nbformat": 4,
 "nbformat_minor": 2
}
