{
 "cells": [
  {
   "cell_type": "markdown",
   "metadata": {},
   "source": [
    "# Create Metadata Report by Connecting to SQLServer"
   ]
  },
  {
   "cell_type": "markdown",
   "metadata": {},
   "source": [
    "## 1. Create Connection"
   ]
  },
  {
   "cell_type": "code",
   "execution_count": 1,
   "metadata": {},
   "outputs": [],
   "source": [
    "import pyodbc"
   ]
  },
  {
   "cell_type": "markdown",
   "metadata": {},
   "source": [
    "Connection details;"
   ]
  },
  {
   "cell_type": "code",
   "execution_count": 27,
   "metadata": {},
   "outputs": [],
   "source": [
    "SERVER = \"WSSQL0165\\DIS_PROD\"\n",
    "DATABASE = \"DW_Research_Outputs\"\n",
    "#USERNAME = '<username>'\n",
    "#PASSWORD = '<password>'"
   ]
  },
  {
   "cell_type": "markdown",
   "metadata": {},
   "source": [
    "Establish connection;"
   ]
  },
  {
   "cell_type": "code",
   "execution_count": 28,
   "metadata": {},
   "outputs": [],
   "source": [
    "conn_str = (\"Driver={ODBC Driver 17 for SQL Server};\" f\"Server={SERVER};\" f\"Database={DATABASE};\" \"Trusted_Connection=yes;\" \"LoginTimeout=500;\")\n",
    "conn = pyodbc.connect(conn_str) \n",
    "cursor = conn.cursor()"
   ]
  },
  {
   "cell_type": "markdown",
   "metadata": {},
   "source": [
    "## 2. Print data in rows using format"
   ]
  },
  {
   "cell_type": "code",
   "execution_count": 29,
   "metadata": {},
   "outputs": [
    {
     "ename": "Error",
     "evalue": "('HY090', '[HY090] [Microsoft][ODBC Driver Manager] Invalid string or buffer length (0) (SQLExecDirectW)')",
     "output_type": "error",
     "traceback": [
      "\u001b[1;31m---------------------------------------------------------------------------\u001b[0m",
      "\u001b[1;31mError\u001b[0m                                     Traceback (most recent call last)",
      "\u001b[1;32m<ipython-input-29-d32ba0001aee>\u001b[0m in \u001b[0;36m<module>\u001b[1;34m\u001b[0m\n\u001b[0;32m      1\u001b[0m \u001b[0msql_query\u001b[0m \u001b[1;33m=\u001b[0m \u001b[1;34m''\u001b[0m\u001b[1;33m\u001b[0m\u001b[1;33m\u001b[0m\u001b[0m\n\u001b[1;32m----> 2\u001b[1;33m \u001b[0mcursor\u001b[0m\u001b[1;33m.\u001b[0m\u001b[0mexecute\u001b[0m\u001b[1;33m(\u001b[0m\u001b[0msql_query\u001b[0m\u001b[1;33m)\u001b[0m\u001b[1;33m\u001b[0m\u001b[1;33m\u001b[0m\u001b[0m\n\u001b[0m",
      "\u001b[1;31mError\u001b[0m: ('HY090', '[HY090] [Microsoft][ODBC Driver Manager] Invalid string or buffer length (0) (SQLExecDirectW)')"
     ]
    }
   ],
   "source": [
    "sql_query = ''\n",
    "cursor.execute(sql_query)"
   ]
  },
  {
   "cell_type": "code",
   "execution_count": 10,
   "metadata": {},
   "outputs": [
    {
     "name": "stdout",
     "output_type": "stream",
     "text": [
      "1         Dob                 Date Of Birth       \n",
      "2         EventDate           Event Dat           \n",
      "3         Diag                Principal Diagnosis \n"
     ]
    }
   ],
   "source": [
    "for var_row in lstFileLayoutTable:\n",
    "    print(\"{ColNo:<10}{ColName:<20}{ColDesc:20}\".format(**var_row))\n",
    "    #print(\"{: >20} {: >20} {: >20}\".format(**var_row))\n",
    "\n"
   ]
  },
  {
   "cell_type": "markdown",
   "metadata": {},
   "source": [
    "### 2.2 Print data with headers"
   ]
  },
  {
   "cell_type": "code",
   "execution_count": 13,
   "metadata": {},
   "outputs": [
    {
     "name": "stdout",
     "output_type": "stream",
     "text": [
      "ColNo     ColName             ColDesc             \n",
      "-----     -------             -------             \n",
      "1         Dob                 Date Of Birth       \n",
      "2         EventDate           Event Dat           \n",
      "3         Diag                Principal Diagnosis \n"
     ]
    }
   ],
   "source": [
    "# Print Headers\n",
    "print(\"{:<10}{:<20}{:20}\".format(\"ColNo\",\"ColName\",\"ColDesc\"))\n",
    "print(\"{:<10}{:<20}{:20}\".format(\"-----\",\"-------\",\"-------\"))\n",
    "\n",
    "# Print data\n",
    "for var_row in lstFileLayoutTable:\n",
    "    print(\"{ColNo:<10}{ColName:<20}{ColDesc:20}\".format(**var_row))"
   ]
  },
  {
   "cell_type": "markdown",
   "metadata": {},
   "source": [
    "## 3. Print data from metadata tables"
   ]
  },
  {
   "cell_type": "code",
   "execution_count": 30,
   "metadata": {},
   "outputs": [],
   "source": [
    "sql_query = f'''SELECT\n",
    "                        ext_def.ExtractionId extraction_id\n",
    "                        ,ext_def.DataSourceId dat_id\n",
    "                        ,dataset_specs.VariableName1 var1\n",
    "                        ,dataset_specs.VariableName2 var2\n",
    "                        ,dataset_specs.DataSourceName2 table_name_for_extraction\n",
    "                        ,dataset_specs.SrcKeyField1 \n",
    "                        ,dataset_specs.SrcKeyField2\n",
    "                        ,dataset_specs.SrcKeyField3\n",
    "                        FROM \n",
    "                        DW_Research_Outputs.MET.ProjectExtractionDefinitions ext_def\n",
    "                        INNER JOIN \n",
    "                        (SELECT \n",
    "                        var_ids_req.ExtractionId\n",
    "                        ,var_ids_req.Required\n",
    "                        ,mapping.VariableName1\n",
    "                        ,mapping.VariableName2\n",
    "                        ,mapping.DataSourceName2\n",
    "                        ,mapping.SrcKeyField1\n",
    "                        ,mapping.SrcKeyField2\n",
    "                        ,mapping.SrcKeyField3\n",
    "                        FROM\n",
    "                        DW_Research_Outputs.MET.ProjectExtractionVariables var_ids_req\n",
    "                        LEFT JOIN (\n",
    "                            SELECT \n",
    "                            join1.VariableId1\n",
    "                            ,join1.VariableName1\n",
    "                            ,join2.VariableName2\n",
    "                            ,join2.DataSourceName2\n",
    "                            ,join2.SrcKeyField1\n",
    "                            ,join2.SrcKeyField2\n",
    "                            ,join2.SrcKeyField3\n",
    "\n",
    "                            FROM\n",
    "                                    (SELECT\t map.RelationshipId\n",
    "                                            ,map.VariableId1\n",
    "                                            ,ms.VariableName VariableName1 \n",
    "                                            ,ms.DataSourceId DataSourceId1\n",
    "                                            ,ms.DataSourceName DataSourceName1\n",
    "                                    FROM DW_Research_Outputs.[MET].[MasterVariableMap] map\n",
    "                                    INNER JOIN (\tSELECT \n",
    "                                                    vars.VariableId, \n",
    "                                                    vars.VariableName, \n",
    "                                                    ds.DataSourceName, \n",
    "                                                    ds.DataSourceId\n",
    "                                                FROM DW_Research_Outputs.[MET].[MasterVariables] vars\n",
    "                                                INNER JOIN DW_Research_Outputs.MET.MasterDataSources ds\n",
    "                                                ON vars.DataSourceId=ds.DataSourceId) ms\n",
    "                                                ON map.VariableId1 = ms.VariableId ) join1\n",
    "\n",
    "                            INNER JOIN \n",
    "                                    (SELECT\t\n",
    "                                            map.RelationshipId\n",
    "                                            ,map.VariableId2\n",
    "                                            ,ms.VariableName VariableName2\n",
    "                                            ,ms.DataSourceId DataSourceId2\n",
    "                                            ,ms.DataSourceName DataSourceName2\n",
    "                                            ,ms.SrcKeyField1\n",
    "                                            ,ms.SrcKeyField2\n",
    "                                            ,ms.SrcKeyField3\n",
    "                                    FROM DW_Research_Outputs.[MET].[MasterVariableMap] map\n",
    "                                    INNER JOIN (SELECT \n",
    "                                                    vars.VariableId, \n",
    "                                                    vars.VariableName, \n",
    "                                                    ds.DataSourceName, \n",
    "                                                    ds.DataSourceId,\n",
    "                                                    ds.SrcKeyField1,\n",
    "                                                    ds.SrcKeyField2,\n",
    "                                                    ds.SrcKeyField3\n",
    "                                                FROM DW_Research_Outputs.[MET].[MasterVariables] vars\n",
    "                                                INNER JOIN DW_Research_Outputs.MET.MasterDataSources ds\n",
    "                                                ON vars.DataSourceId=ds.DataSourceId) ms\n",
    "                                    ON map.VariableId2 = ms.VariableId ) join2\n",
    "                            ON join1.RelationshipId = join2.RelationshipId)  mapping                      \n",
    "                            ON var_ids_req.VariableId = mapping.VariableId1) dataset_specs\n",
    "                            ON ext_def.ExtractionId = dataset_specs.ExtractionId\n",
    "                            WHERE ext_def.GroupId = 6 AND ext_def.ExtractionType like '%D%' AND dataset_specs.Required = 1\n",
    "'''\n",
    "\n",
    "cursor.execute(sql_query)\n",
    "\n",
    "cur_data = cursor.fetchall()\n"
   ]
  },
  {
   "cell_type": "code",
   "execution_count": 31,
   "metadata": {},
   "outputs": [
    {
     "name": "stdout",
     "output_type": "stream",
     "text": [
      "Total rows are:   165\n"
     ]
    }
   ],
   "source": [
    "print(\"Total rows are:  \", len(cur_data))"
   ]
  },
  {
   "cell_type": "code",
   "execution_count": 38,
   "metadata": {},
   "outputs": [
    {
     "name": "stdout",
     "output_type": "stream",
     "text": [
      "ColNo     ColName             ColDesc             \n",
      "-----     -------             -------             \n",
      "Registration year\n",
      "Aboriginal Flag\n",
      "Country of birth code\n",
      "Cause of death code\n",
      "Multiple cause of death codes\n",
      "Multiple cause of death codes\n",
      "Multiple cause of death codes\n",
      "Standard Morbidity Record Information\n",
      "Standard Morbidity Record Information\n",
      "Standard Morbidity Record Information\n",
      "Standard Morbidity Record Information\n",
      "Standard Morbidity Record Information\n",
      "Standard Morbidity Record Information\n",
      "Standard Morbidity Record Information\n",
      "Standard Morbidity Record Information\n",
      "Standard Morbidity Record Information\n",
      "Standard Morbidity Record Information\n",
      "Standard Morbidity Record Information\n",
      "Standard Morbidity Record Information\n",
      "Standard Morbidity Record Information\n",
      "Standard Morbidity Record Information\n",
      "Subset date of birth\n",
      "Subset date of birth\n",
      "Indigenous status \n",
      "Indigenous status \n",
      "Marital status\n",
      "Marital status\n",
      "Country/State of birth\n",
      "Country/State of birth\n",
      "State/Territory of residence\n",
      "None\n",
      "Length of stay\n",
      "Length of stay\n",
      "Source of referral-location\n",
      "Source of referral-location\n",
      "Source of referral-professional\n",
      "Source of referral\n",
      "Source of referral\n",
      "Total leave days\n",
      "DRG\n",
      "DRG\n",
      "DRG\n",
      "DRG\n",
      "Days in Intensive Care Unit - ICU\n",
      "Days in Intensive Care Unit - ICU\n",
      "MDC\n",
      "MDC\n",
      "MDC\n",
      "MDC\n",
      "Hours in ICU\n",
      "Condition Onset Flag\n",
      "Postcode\n",
      "Postcode\n",
      "Principal diagnosis\n",
      "Principal diagnosis\n",
      "Principal diagnosis\n",
      "Co-diagnosis\n",
      "Co-diagnosis\n",
      "Co-diagnosis\n",
      "Additional diagnoses - up to 20\n",
      "Additional diagnoses - up to 20\n",
      "Additional diagnoses - up to 20\n",
      "Admission date\n",
      "External cause of morbidity\n",
      "External cause of morbidity\n",
      "External cause of morbidity\n",
      "External cause of morbidity\n",
      "External cause of morbidity\n",
      "External cause of morbidity\n",
      "Separation date\n",
      "Activity code\n",
      "Activity code\n",
      "Activity code\n",
      "Activity code\n",
      "Activity code\n",
      "Activity code\n",
      "Place of occurrence\n",
      "Place of occurrence\n",
      "Place of occurrence\n",
      "Place of occurrence\n",
      "Place of occurrence\n",
      "Place of occurrence\n",
      "Place of occurrence\n",
      "Principal Procedure\n",
      "Principal Procedure\n",
      "Additional procedures - up to 10\n",
      "Additional procedures - up to 10\n",
      "Principal procedure date\n",
      "Additional procedure dates\n",
      "Standard Emergency Record Information\n",
      "Standard Emergency Record Information\n",
      "Standard Emergency Record Information\n",
      "Standard Emergency Record Information\n",
      "Standard Emergency Record Information\n",
      "Standard Emergency Record Information\n",
      "Standard Emergency Record Information\n",
      "Standard Emergency Record Information\n",
      "Standard Emergency Record Information\n",
      "Standard Emergency Record Information\n",
      "Standard Emergency Record Information\n",
      "Standard Emergency Record Information\n",
      "Standard Emergency Record Information\n",
      "Subset Date of birth\n",
      "Age at presentation\n",
      "Sex\n",
      "Indigenous Status\n",
      "Country of birth\n",
      "Australian state/territory identifier\n",
      "Postcode\n",
      "URG classification type\n",
      "URG Version\n",
      "Presentation Date/Time\n",
      "Discharge Date/Time\n",
      "Registration Year\n",
      "Sex\n",
      "Subset date of birth\n",
      "Subset date of birth\n",
      "Age\n",
      "Age\n",
      "ATI status\n",
      "ATSI status - doctor\n",
      "Subset Date of death\n",
      "Subset Date of death\n",
      "Subset Date of death\n",
      "Subset Date of death\n",
      "Subset Date of death\n",
      "Country of birth\n",
      "Born overseas flag\n",
      "Total time residency in Australian states\n",
      "Time of occupancy in Western Australia\n",
      "State Unknown\n",
      "Previous State\n",
      "Previous State\n",
      "Previous State\n",
      "Previous State\n",
      "Previous State\n",
      "Previous State\n",
      "Previous State\n",
      "Previous State\n",
      "Previous State\n",
      "Previous State\n",
      "Previous State\n",
      "Previous State\n",
      "Previous State\n",
      "Previous State\n",
      "Previous State\n",
      "Previous State\n",
      "Postcode\n",
      "Cause of death text\n",
      "Cause of death text\n",
      "Cause of death text\n",
      "Cause of death text\n",
      "Cause of death text\n",
      "Cause of death text\n",
      "Cause of death text\n",
      "Cause of death text\n",
      "Full Date of death\n",
      "Full Date of death\n",
      "Full Date of death\n",
      "Full Date of death\n",
      "Transaction Date\n",
      "Sex\n",
      "Status Flag\n",
      "Status Flag\n",
      "Postcode\n"
     ]
    }
   ],
   "source": [
    "# Print Headers\n",
    "print(\"{:<10}{:<20}{:20}\".format(\"ColNo\",\"ColName\",\"ColDesc\"))\n",
    "print(\"{:<10}{:<20}{:20}\".format(\"-----\",\"-------\",\"-------\"))\n",
    "\n",
    "# Print data\n",
    "for var_row in cur_data:\n",
    "    print(var_row.var1)\n",
    "    #print(\"{:<10}{:<20}{:20}\".format(var_row.var1))"
   ]
  },
  {
   "cell_type": "markdown",
   "metadata": {},
   "source": []
  }
 ],
 "metadata": {
  "kernelspec": {
   "display_name": "my_env",
   "language": "python",
   "name": "python3"
  },
  "language_info": {
   "codemirror_mode": {
    "name": "ipython",
    "version": 3
   },
   "file_extension": ".py",
   "mimetype": "text/x-python",
   "name": "python",
   "nbconvert_exporter": "python",
   "pygments_lexer": "ipython3",
   "version": "3.8.3"
  },
  "orig_nbformat": 4
 },
 "nbformat": 4,
 "nbformat_minor": 2
}
