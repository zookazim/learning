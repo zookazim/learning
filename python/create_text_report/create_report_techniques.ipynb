{
 "cells": [
  {
   "cell_type": "markdown",
   "metadata": {},
   "source": [
    "# Techniques to Create a Text Report"
   ]
  },
  {
   "cell_type": "markdown",
   "metadata": {},
   "source": [
    "## 1. Python Print Statements"
   ]
  },
  {
   "cell_type": "markdown",
   "metadata": {},
   "source": [
    "Generate some dummy data"
   ]
  },
  {
   "cell_type": "code",
   "execution_count": 1,
   "metadata": {},
   "outputs": [],
   "source": [
    "lstFileLayoutTable = []\n",
    "\n",
    "lstFileLayoutTable.append({\"ColNo\":\"1\",\"ColName\":\"Dob\",\"ColDesc\":\"Date Of Birth\"})\n",
    "lstFileLayoutTable.append({\"ColNo\":\"2\",\"ColName\":\"EventDate\",\"ColDesc\":\"Event Dat\"})\n",
    "lstFileLayoutTable.append({\"ColNo\":\"3\",\"ColName\":\"Diag\",\"ColDesc\":\"Principal Diagnosis\"})\n",
    "\n"
   ]
  },
  {
   "cell_type": "code",
   "execution_count": null,
   "metadata": {},
   "outputs": [],
   "source": [
    "for i in lstFileLayoutTable:\n",
    "    print(\"{ColNo}\".format(**lstFileLayoutTable))\n",
    "    print('df_' + i)\n",
    "done\n",
    "\n",
    "print('\\n'.join(lstTableName))"
   ]
  },
  {
   "cell_type": "markdown",
   "metadata": {},
   "source": []
  }
 ],
 "metadata": {
  "kernelspec": {
   "display_name": "my_env",
   "language": "python",
   "name": "python3"
  },
  "language_info": {
   "codemirror_mode": {
    "name": "ipython",
    "version": 3
   },
   "file_extension": ".py",
   "mimetype": "text/x-python",
   "name": "python",
   "nbconvert_exporter": "python",
   "pygments_lexer": "ipython3",
   "version": "3.8.5"
  },
  "orig_nbformat": 4
 },
 "nbformat": 4,
 "nbformat_minor": 2
}
