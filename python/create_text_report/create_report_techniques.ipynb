{
 "cells": [
  {
   "cell_type": "markdown",
   "metadata": {},
   "source": [
    "# Techniques to Create a Text Report"
   ]
  },
  {
   "cell_type": "markdown",
   "metadata": {},
   "source": [
    "## 1. Python Print Statements"
   ]
  },
  {
   "cell_type": "markdown",
   "metadata": {},
   "source": [
    "Generate some dummy data"
   ]
  },
  {
   "cell_type": "code",
   "execution_count": 1,
   "metadata": {},
   "outputs": [],
   "source": [
    "lstFileLayoutTable = []\n",
    "\n",
    "lstFileLayoutTable.append({\"ColNo\":\"1\",\"ColName\":\"Dob\",\"ColDesc\":\"Date Of Birth\"})\n",
    "lstFileLayoutTable.append({\"ColNo\":\"2\",\"ColName\":\"EventDate\",\"ColDesc\":\"Event Dat\"})\n",
    "lstFileLayoutTable.append({\"ColNo\":\"3\",\"ColName\":\"Diag\",\"ColDesc\":\"Principal Diagnosis\"})\n",
    "\n"
   ]
  },
  {
   "cell_type": "code",
   "execution_count": 10,
   "metadata": {},
   "outputs": [
    {
     "name": "stdout",
     "output_type": "stream",
     "text": [
      "1         Dob                 Date Of Birth       \n",
      "2         EventDate           Event Dat           \n",
      "3         Diag                Principal Diagnosis \n"
     ]
    }
   ],
   "source": [
    "for var_row in lstFileLayoutTable:\n",
    "    print(\"{ColNo:<10}{ColName:<20}{ColDesc:20}\".format(**var_row))\n",
    "    #print(\"{: >20} {: >20} {: >20}\".format(**var_row))\n",
    "\n"
   ]
  },
  {
   "cell_type": "markdown",
   "metadata": {},
   "source": []
  },
  {
   "cell_type": "code",
   "execution_count": 13,
   "metadata": {},
   "outputs": [
    {
     "name": "stdout",
     "output_type": "stream",
     "text": [
      "ColNo     ColName             ColDesc             \n",
      "-----     -------             -------             \n",
      "1         Dob                 Date Of Birth       \n",
      "2         EventDate           Event Dat           \n",
      "3         Diag                Principal Diagnosis \n"
     ]
    }
   ],
   "source": [
    "# Print Headers\n",
    "print(\"{:<10}{:<20}{:20}\".format(\"ColNo\",\"ColName\",\"ColDesc\"))\n",
    "print(\"{:<10}{:<20}{:20}\".format(\"-----\",\"-------\",\"-------\"))\n",
    "\n",
    "# Print data\n",
    "for var_row in lstFileLayoutTable:\n",
    "    print(\"{ColNo:<10}{ColName:<20}{ColDesc:20}\".format(**var_row))"
   ]
  }
 ],
 "metadata": {
  "kernelspec": {
   "display_name": "my_env",
   "language": "python",
   "name": "python3"
  },
  "language_info": {
   "codemirror_mode": {
    "name": "ipython",
    "version": 3
   },
   "file_extension": ".py",
   "mimetype": "text/x-python",
   "name": "python",
   "nbconvert_exporter": "python",
   "pygments_lexer": "ipython3",
   "version": "3.8.5"
  },
  "orig_nbformat": 4
 },
 "nbformat": 4,
 "nbformat_minor": 2
}
