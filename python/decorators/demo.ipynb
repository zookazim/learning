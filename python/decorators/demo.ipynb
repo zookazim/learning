{
 "cells": [
  {
   "cell_type": "markdown",
   "metadata": {},
   "source": [
    "# Python Decorators"
   ]
  },
  {
   "cell_type": "code",
   "execution_count": 4,
   "metadata": {},
   "outputs": [],
   "source": [
    "from datetime import datetime"
   ]
  },
  {
   "cell_type": "markdown",
   "metadata": {},
   "source": [
    "## 1. Functions"
   ]
  },
  {
   "cell_type": "code",
   "execution_count": 7,
   "metadata": {},
   "outputs": [],
   "source": [
    "def log_msg(p_msg):\n",
    "    now = datetime.now()\n",
    "    current_time = now.strftime(\"%H:%M:%S\")\n",
    "\n",
    "    return current_time + \" : \" + p_msg "
   ]
  },
  {
   "cell_type": "code",
   "execution_count": 8,
   "metadata": {},
   "outputs": [
    {
     "name": "stdout",
     "output_type": "stream",
     "text": [
      "14:35:41 : Log Start\n"
     ]
    }
   ],
   "source": [
    "print(log_msg(\"Log Start\"))"
   ]
  },
  {
   "cell_type": "code",
   "execution_count": 13,
   "metadata": {},
   "outputs": [],
   "source": [
    "def log_start():\n",
    "    print(log_msg(\"Starting ...\"))"
   ]
  },
  {
   "cell_type": "code",
   "execution_count": 38,
   "metadata": {},
   "outputs": [],
   "source": [
    "def log_end():\n",
    "    print(log_msg(\"Ending ...\"))"
   ]
  },
  {
   "cell_type": "code",
   "execution_count": 40,
   "metadata": {},
   "outputs": [],
   "source": [
    "def do_some_stuff():\n",
    "\n",
    "    log_start()\n",
    "\n",
    "    print(\" - Doing stuff\")\n",
    "    print(\" - Doing more stuff\")\n",
    "\n",
    "    log_end()"
   ]
  },
  {
   "cell_type": "code",
   "execution_count": 41,
   "metadata": {},
   "outputs": [
    {
     "name": "stdout",
     "output_type": "stream",
     "text": [
      "14:54:54 : Starting ...\n",
      " - Doing stuff\n",
      " - Doing more stuff\n",
      "14:54:54 : Ending ...\n"
     ]
    }
   ],
   "source": [
    "do_some_stuff()"
   ]
  },
  {
   "cell_type": "code",
   "execution_count": 42,
   "metadata": {},
   "outputs": [],
   "source": [
    "def do_some_stuff2():\n",
    "\n",
    "    print(\" - Doing stuff\")\n",
    "    print(\" - Doing more stuff\")\n"
   ]
  },
  {
   "cell_type": "code",
   "execution_count": 68,
   "metadata": {},
   "outputs": [],
   "source": [
    "def log_wrapper(function):\n",
    "    log_start()\n",
    "    function()\n",
    "    log_end()\n",
    "\n"
   ]
  },
  {
   "cell_type": "code",
   "execution_count": 70,
   "metadata": {},
   "outputs": [
    {
     "name": "stdout",
     "output_type": "stream",
     "text": [
      "15:14:59 : Starting ...\n",
      " - Doing stuff\n",
      " - Doing more stuff\n",
      "15:14:59 : Ending ...\n"
     ]
    }
   ],
   "source": [
    "log_wrapper(do_some_stuff2)"
   ]
  },
  {
   "cell_type": "code",
   "execution_count": 71,
   "metadata": {},
   "outputs": [],
   "source": [
    "def log_wrapper(function):\n",
    "\n",
    "    def add_logs():\n",
    "\n",
    "        log_start()\n",
    "        function()\n",
    "        log_end()\n",
    "\n",
    "    return add_logs"
   ]
  },
  {
   "cell_type": "code",
   "execution_count": 72,
   "metadata": {},
   "outputs": [],
   "source": [
    "@log_wrapper\n",
    "def do_some_stuff3():\n",
    "\n",
    "    print(\" - Doing stuff\")\n",
    "    print(\" - Doing more stuff\")\n"
   ]
  },
  {
   "cell_type": "code",
   "execution_count": 73,
   "metadata": {},
   "outputs": [
    {
     "name": "stdout",
     "output_type": "stream",
     "text": [
      "15:15:06 : Starting ...\n",
      " - Doing stuff\n",
      " - Doing more stuff\n",
      "15:15:06 : Ending ...\n"
     ]
    }
   ],
   "source": [
    "do_some_stuff3()"
   ]
  }
 ],
 "metadata": {
  "kernelspec": {
   "display_name": "base",
   "language": "python",
   "name": "python3"
  },
  "language_info": {
   "codemirror_mode": {
    "name": "ipython",
    "version": 3
   },
   "file_extension": ".py",
   "mimetype": "text/x-python",
   "name": "python",
   "nbconvert_exporter": "python",
   "pygments_lexer": "ipython3",
   "version": "3.8.5"
  }
 },
 "nbformat": 4,
 "nbformat_minor": 2
}
