{
 "cells": [
  {
   "cell_type": "markdown",
   "metadata": {},
   "source": [
    "# Python Decorators"
   ]
  },
  {
   "cell_type": "code",
   "execution_count": 4,
   "metadata": {},
   "outputs": [],
   "source": [
    "from datetime import datetime"
   ]
  },
  {
   "cell_type": "markdown",
   "metadata": {},
   "source": [
    "## 1. Functions"
   ]
  },
  {
   "cell_type": "markdown",
   "metadata": {},
   "source": [
    "### 2.1 Create a logging function"
   ]
  },
  {
   "cell_type": "code",
   "execution_count": 7,
   "metadata": {},
   "outputs": [],
   "source": [
    "def log_msg(p_msg):\n",
    "    now = datetime.now()\n",
    "    current_time = now.strftime(\"%H:%M:%S\")\n",
    "\n",
    "    return current_time + \" : \" + p_msg "
   ]
  },
  {
   "cell_type": "code",
   "execution_count": 8,
   "metadata": {},
   "outputs": [
    {
     "name": "stdout",
     "output_type": "stream",
     "text": [
      "14:35:41 : Log Start\n"
     ]
    }
   ],
   "source": [
    "print(log_msg(\"Log Start\"))"
   ]
  },
  {
   "cell_type": "markdown",
   "metadata": {},
   "source": [
    "### 2.2 Main function"
   ]
  },
  {
   "cell_type": "code",
   "execution_count": 40,
   "metadata": {},
   "outputs": [],
   "source": [
    "def do_some_stuff():\n",
    "\n",
    "    print(log_msg(\"Starting ...\"))\n",
    "\n",
    "    # Body of function\n",
    "    print(\" - Doing stuff\")\n",
    "    print(\" - Doing more stuff\")\n",
    "\n",
    "    print(log_msg(\"Ending ...\"))"
   ]
  },
  {
   "cell_type": "code",
   "execution_count": 78,
   "metadata": {},
   "outputs": [
    {
     "name": "stdout",
     "output_type": "stream",
     "text": [
      "14:06:24 : Starting ...\n",
      " - Doing stuff\n",
      " - Doing more stuff\n",
      "14:06:24 : Ending ...\n"
     ]
    }
   ],
   "source": [
    "do_some_stuff()"
   ]
  },
  {
   "cell_type": "markdown",
   "metadata": {},
   "source": [
    "### 2.3 Send a function to a function"
   ]
  },
  {
   "cell_type": "markdown",
   "metadata": {},
   "source": [
    "Create a function to wrap another function"
   ]
  },
  {
   "cell_type": "code",
   "execution_count": 80,
   "metadata": {},
   "outputs": [],
   "source": [
    "def log_wrapper(function):\n",
    "\n",
    "    print(log_msg(\"Starting ...\"))\n",
    "    \n",
    "    function()\n",
    "    \n",
    "    print(log_msg(\"Ending ...\"))\n",
    "\n"
   ]
  },
  {
   "cell_type": "code",
   "execution_count": 79,
   "metadata": {},
   "outputs": [],
   "source": [
    "def do_some_stuff2():\n",
    "\n",
    "    print(\" - Doing stuff\")\n",
    "    print(\" - Doing more stuff\")\n"
   ]
  },
  {
   "cell_type": "code",
   "execution_count": 81,
   "metadata": {},
   "outputs": [
    {
     "name": "stdout",
     "output_type": "stream",
     "text": [
      "14:07:36 : Starting ...\n",
      " - Doing stuff\n",
      " - Doing more stuff\n",
      "14:07:36 : Ending ...\n"
     ]
    }
   ],
   "source": [
    "log_wrapper(do_some_stuff2)"
   ]
  },
  {
   "cell_type": "markdown",
   "metadata": {},
   "source": [
    "### 3. Python Decorators"
   ]
  },
  {
   "cell_type": "markdown",
   "metadata": {},
   "source": [
    "### 3.1 Create the decorator function"
   ]
  },
  {
   "cell_type": "code",
   "execution_count": 71,
   "metadata": {},
   "outputs": [],
   "source": [
    "def log_wrapper(function):\n",
    "\n",
    "    def add_logs():\n",
    "\n",
    "        log_start()\n",
    "        function()\n",
    "        log_end()\n",
    "\n",
    "    return add_logs"
   ]
  },
  {
   "cell_type": "markdown",
   "metadata": {},
   "source": [
    "### 3.2 Decorate a function"
   ]
  },
  {
   "cell_type": "code",
   "execution_count": 72,
   "metadata": {},
   "outputs": [],
   "source": [
    "@log_wrapper\n",
    "def do_some_stuff3():\n",
    "\n",
    "    print(\" - Doing stuff\")\n",
    "    print(\" - Doing more stuff\")\n"
   ]
  },
  {
   "cell_type": "code",
   "execution_count": 73,
   "metadata": {},
   "outputs": [
    {
     "name": "stdout",
     "output_type": "stream",
     "text": [
      "15:15:06 : Starting ...\n",
      " - Doing stuff\n",
      " - Doing more stuff\n",
      "15:15:06 : Ending ...\n"
     ]
    }
   ],
   "source": [
    "do_some_stuff3()"
   ]
  },
  {
   "cell_type": "markdown",
   "metadata": {},
   "source": [
    "### 3.3 Easily decorate other functions"
   ]
  },
  {
   "cell_type": "code",
   "execution_count": 74,
   "metadata": {},
   "outputs": [],
   "source": [
    "@log_wrapper\n",
    "def do_some_other_stuff():\n",
    "    print (\"hello\")"
   ]
  },
  {
   "cell_type": "code",
   "execution_count": 76,
   "metadata": {},
   "outputs": [
    {
     "name": "stdout",
     "output_type": "stream",
     "text": [
      "15:17:35 : Starting ...\n",
      "hello\n",
      "15:17:35 : Ending ...\n"
     ]
    }
   ],
   "source": [
    "do_some_other_stuff()"
   ]
  }
 ],
 "metadata": {
  "kernelspec": {
   "display_name": "base",
   "language": "python",
   "name": "python3"
  },
  "language_info": {
   "codemirror_mode": {
    "name": "ipython",
    "version": 3
   },
   "file_extension": ".py",
   "mimetype": "text/x-python",
   "name": "python",
   "nbconvert_exporter": "python",
   "pygments_lexer": "ipython3",
   "version": "3.8.3"
  }
 },
 "nbformat": 4,
 "nbformat_minor": 2
}
