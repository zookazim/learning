{
 "cells": [
  {
   "cell_type": "markdown",
   "id": "be7e8bf1",
   "metadata": {},
   "source": [
    "# MH Service Contacts"
   ]
  },
  {
   "cell_type": "code",
   "execution_count": 4,
   "id": "b3939bb1",
   "metadata": {},
   "outputs": [],
   "source": [
    "import pandas as pd\n",
    "import csv"
   ]
  },
  {
   "cell_type": "markdown",
   "id": "2e1883b3",
   "metadata": {},
   "source": [
    "## Import the SAS bdat file data"
   ]
  },
  {
   "cell_type": "code",
   "execution_count": 5,
   "id": "96829b90",
   "metadata": {},
   "outputs": [],
   "source": [
    "\n",
    "# Replace 'your_sas_file.sas7bdat' with the actual filename\n",
    "sas_file = f\"C:\\\\temp\\\\sas_files\\\\servicecontacts_2021.sas7bdat\"\n",
    "csv_file = f\"C:\\\\temp\\\\sas_files\\\\Service Contacts - year4.csv\"\n",
    "\n",
    "try:\n",
    "    # Read the SAS file into a pandas DataFrame\n",
    "    df = pd.read_sas(sas_file, encoding='latin-1')\n",
    "    \n",
    "\n",
    "except FileNotFoundError:\n",
    "    print(f\"Error: File not found: {sas_file}\")\n",
    "except Exception as e:\n",
    "    print(f\"An error occurred: {e}\")"
   ]
  },
  {
   "cell_type": "code",
   "execution_count": 6,
   "id": "622257be",
   "metadata": {},
   "outputs": [
    {
     "data": {
      "text/plain": [
       "<bound method NDFrame.head of          pt_age_on_contact   contdate  sc_start_time pt_country_of_birth  \\\n",
       "0                     40.0 2020-12-01        30600.0       Not Specified   \n",
       "1                    128.0 2021-05-16        43380.0       Not Specified   \n",
       "2                    128.0 2020-07-13        55260.0       Not Specified   \n",
       "3                    128.0 2020-12-16        47400.0       Not Specified   \n",
       "4                    128.0 2021-01-31        23280.0       Not Specified   \n",
       "...                    ...        ...            ...                 ...   \n",
       "1047196               67.0 2021-05-22        63000.0   Western Australia   \n",
       "1047197                9.0 2020-07-29        33360.0   Western Australia   \n",
       "1047198                9.0 2020-08-18        44700.0   Western Australia   \n",
       "1047199               16.0 2021-06-09        43800.0   Western Australia   \n",
       "1047200               16.0 2021-06-15        28800.0   Western Australia   \n",
       "\n",
       "        pt_date_of_birth_mmyy  sc_duration      pt_enc_id  \\\n",
       "0                      071980         60.0            NaN   \n",
       "1                      071892          3.0            NaN   \n",
       "2                      071892          2.0            NaN   \n",
       "3                      071892         15.0            NaN   \n",
       "4                      071892         18.0            NaN   \n",
       "...                       ...          ...            ...   \n",
       "1047196                111953         15.0  3KKMDBY7FA5X2   \n",
       "1047197                112010         14.0  CK3SZ5BW7PGKZ   \n",
       "1047198                112010          5.0  CK3SZ5BW7PGKZ   \n",
       "1047199                052005          5.0  ATQ49XDD09TCR   \n",
       "1047200                052005          5.0  ATQ49XDD09TCR   \n",
       "\n",
       "         pt_employment_status_code pt_employment_status sc_session_type  ...  \\\n",
       "0                           9999.0            PAS Error      Individual  ...   \n",
       "1                              NaN        Not Specified      Individual  ...   \n",
       "2                              NaN        Not Specified      Individual  ...   \n",
       "3                              NaN        Not Specified      Individual  ...   \n",
       "4                              NaN        Not Specified      Individual  ...   \n",
       "...                            ...                  ...             ...  ...   \n",
       "1047196                     9999.0            PAS Error      Individual  ...   \n",
       "1047197                     9999.0            PAS Error      Individual  ...   \n",
       "1047198                     9999.0            PAS Error      Individual  ...   \n",
       "1047199                        NaN        Not Specified      Individual  ...   \n",
       "1047200                        NaN        Not Specified      Individual  ...   \n",
       "\n",
       "                                           district pt_sex_code  \\\n",
       "0                                       NORTH METRO         1.0   \n",
       "1                                        EAST METRO         9.0   \n",
       "2                                        EAST METRO         9.0   \n",
       "3                                        EAST METRO         9.0   \n",
       "4                                        EAST METRO         9.0   \n",
       "...                                             ...         ...   \n",
       "1047196                                 SOUTH METRO         2.0   \n",
       "1047197  CHILD AND ADOLESCENT HEALTH SERVICE (CAHS)         1.0   \n",
       "1047198  CHILD AND ADOLESCENT HEALTH SERVICE (CAHS)         1.0   \n",
       "1047199  CHILD AND ADOLESCENT HEALTH SERVICE (CAHS)         2.0   \n",
       "1047200  CHILD AND ADOLESCENT HEALTH SERVICE (CAHS)         2.0   \n",
       "\n",
       "                                    pt_sex activation_date  deactivation_date  \\\n",
       "0                                     Male             NaT                NaT   \n",
       "1        Not stated/inadequately described             NaT                NaT   \n",
       "2        Not stated/inadequately described             NaT                NaT   \n",
       "3        Not stated/inadequately described             NaT                NaT   \n",
       "4        Not stated/inadequately described             NaT                NaT   \n",
       "...                                    ...             ...                ...   \n",
       "1047196                             Female             NaT                NaT   \n",
       "1047197                               Male             NaT                NaT   \n",
       "1047198                               Male             NaT                NaT   \n",
       "1047199                             Female             NaT                NaT   \n",
       "1047200                             Female             NaT                NaT   \n",
       "\n",
       "                  stream_type stream_code                            stream  \\\n",
       "0                       ADULT       112.0  SCGH MENTAL HEALTH SERVICE ADULT   \n",
       "1                       ADULT       179.0                       MHERL ADULT   \n",
       "2                       ADULT       179.0                       MHERL ADULT   \n",
       "3                       ADULT       179.0                       MHERL ADULT   \n",
       "4                       ADULT       179.0                       MHERL ADULT   \n",
       "...                       ...         ...                               ...   \n",
       "1047196                 ADULT         5.0                   FREMANTLE ADULT   \n",
       "1047197  CHILD AND ADOLESCENT        50.0                        CAHS-CAMHS   \n",
       "1047198  CHILD AND ADOLESCENT        50.0                        CAHS-CAMHS   \n",
       "1047199  CHILD AND ADOLESCENT        50.0                        CAHS-CAMHS   \n",
       "1047200  CHILD AND ADOLESCENT        50.0                        CAHS-CAMHS   \n",
       "\n",
       "                        venue  referral_id  \n",
       "0        EMERGENCY DEPARTMENT    7592144.0  \n",
       "1                      CLINIC    8320297.0  \n",
       "2                      CLINIC    6855857.0  \n",
       "3                      CLINIC    7653099.0  \n",
       "4                      CLINIC    7859518.0  \n",
       "...                       ...          ...  \n",
       "1047196                CLINIC    8349576.0  \n",
       "1047197                CLINIC    6935536.0  \n",
       "1047198                CLINIC    7020536.0  \n",
       "1047199                CLINIC          NaN  \n",
       "1047200                CLINIC    8415816.0  \n",
       "\n",
       "[1047201 rows x 43 columns]>"
      ]
     },
     "execution_count": 6,
     "metadata": {},
     "output_type": "execute_result"
    }
   ],
   "source": [
    "df.head"
   ]
  },
  {
   "cell_type": "markdown",
   "id": "cba1bfa8",
   "metadata": {},
   "source": [
    "## Export and Format SAS files to CSV"
   ]
  },
  {
   "cell_type": "code",
   "execution_count": null,
   "id": "eb6b920c",
   "metadata": {},
   "outputs": [],
   "source": [
    "    # Write the DataFrame to a CSV file, excluding the index\n",
    "    df.to_csv(csv_file, index=False, quoting=csv.QUOTE_NONNUMERIC)\n",
    "\n",
    "    print(f\"Successfully converted {sas_file} to {csv_file}\")"
   ]
  }
 ],
 "metadata": {
  "kernelspec": {
   "display_name": "my_env",
   "language": "python",
   "name": "python3"
  },
  "language_info": {
   "codemirror_mode": {
    "name": "ipython",
    "version": 3
   },
   "file_extension": ".py",
   "mimetype": "text/x-python",
   "name": "python",
   "nbconvert_exporter": "python",
   "pygments_lexer": "ipython3",
   "version": "3.13.2"
  }
 },
 "nbformat": 4,
 "nbformat_minor": 5
}
