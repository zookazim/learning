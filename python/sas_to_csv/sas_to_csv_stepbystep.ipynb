{
 "cells": [
  {
   "cell_type": "markdown",
   "id": "be7e8bf1",
   "metadata": {},
   "source": [
    "# MH Service Contacts"
   ]
  },
  {
   "cell_type": "code",
   "execution_count": 63,
   "id": "b3939bb1",
   "metadata": {},
   "outputs": [],
   "source": [
    "import pandas as pd\n",
    "import csv\n",
    "import os\n",
    "import time"
   ]
  },
  {
   "cell_type": "markdown",
   "id": "c08fd375",
   "metadata": {},
   "source": [
    "## 1. Script Setup"
   ]
  },
  {
   "cell_type": "markdown",
   "id": "2e1883b3",
   "metadata": {},
   "source": [
    "## 2. Process SAS bdat file data"
   ]
  },
  {
   "cell_type": "code",
   "execution_count": 64,
   "id": "1268074f",
   "metadata": {},
   "outputs": [],
   "source": [
    "# File paths\n",
    "path_sas_files = f\"C:\\\\temp\\\\sas_files\"\n",
    "path_csv_files = f\"C:\\\\temp\\\\sas_files\"\n",
    "\n",
    "# list of SAS files\n",
    "lst_sas_files = [\"servicecontacts_2425.sas7bdat\",\"servicecontacts_2324.sas7bdat\",\"servicecontacts_2223.sas7bdat\",\"servicecontacts_2122.sas7bdat\",\"servicecontacts_2021.sas7bdat\"]\n",
    "lst_csv_files = [\"Service Contacts - currentyear.csv\",\"Service Contacts - year2.csv\",\"Service Contacts - year3.csv\",\"Service Contacts - year4.csv\",\"Service Contacts - year5.csv\"]\n",
    "\n",
    "# Full file paths\n",
    "lst_full_sas_files = [os.path.join(path_sas_files, file) for file in lst_sas_files]\n",
    "lst_full_csv_files = [os.path.join(path_csv_files, file) for file in lst_csv_files]\n",
    "\n"
   ]
  },
  {
   "cell_type": "code",
   "execution_count": 69,
   "id": "75074199",
   "metadata": {},
   "outputs": [
    {
     "name": "stdout",
     "output_type": "stream",
     "text": [
      "Processing C:\\temp\\sas_files\\servicecontacts_2425.sas7bdat to C:\\temp\\sas_files\\Service Contacts - currentyear.csv\n"
     ]
    }
   ],
   "source": [
    "sas_file = lst_full_sas_files[0]\n",
    "csv_file = lst_full_csv_files[0]\n",
    "\n",
    "# Print out the current file being processed\n",
    "print(f\"Processing {sas_file} to {csv_file}\")"
   ]
  },
  {
   "cell_type": "code",
   "execution_count": 70,
   "id": "2f02ac28",
   "metadata": {},
   "outputs": [],
   "source": [
    "# Read the SAS file into a pandas DataFrame\n",
    "df = pd.read_sas(sas_file, encoding='latin-1')"
   ]
  },
  {
   "cell_type": "code",
   "execution_count": 71,
   "id": "dcef02c5",
   "metadata": {},
   "outputs": [],
   "source": [
    "# 1. Convert SAS date column to datetime\n",
    "\n",
    "# If activation_date is not of datetime64 type then convert activation_date from SAS integer to datetime\n",
    "if not pd.api.types.is_datetime64_any_dtype( df['activation_date'] ):\n",
    "    # Convert SAS date to datetime\n",
    "    # SAS dates are the number of days since January 1, 1960\n",
    "    # The origin is set to '1960-01-01' and unit is 'D' for days\n",
    "    df['activation_date'] = pd.to_datetime(df['activation_date'], unit='D', origin='1960-01-01')"
   ]
  },
  {
   "cell_type": "code",
   "execution_count": 72,
   "id": "7fa2b44a",
   "metadata": {},
   "outputs": [],
   "source": [
    "# 2. Change date format\n",
    "\n",
    "# Change date format to 'dd/mm/yy'\n",
    "df['contdate']          = df['contdate'].dt.strftime('%d/%m/%y')\n",
    "df['activation_date']   = df['activation_date'].dt.strftime('%d/%m/%y')\n",
    "df['deactivation_date'] = df['deactivation_date'].dt.strftime('%d/%m/%y')"
   ]
  },
  {
   "cell_type": "code",
   "execution_count": 73,
   "id": "3eb0b4d5",
   "metadata": {},
   "outputs": [],
   "source": [
    "# Convert SAS time to HH:MM:SS format\n",
    "\n",
    "df['sc_start_time'] = df['sc_start_time'].astype('Int64')\n",
    "df['sc_start_time'] = pd.to_datetime(df[\"sc_start_time\"], unit='s').dt.strftime('%H:%M:%S')"
   ]
  },
  {
   "cell_type": "code",
   "execution_count": 74,
   "id": "771baece",
   "metadata": {},
   "outputs": [],
   "source": [
    "# 4. Change code columns to integers\n",
    "\n",
    "# Change the data type \"code\" columns from float to integer\n",
    "df['pt_employment_status_code'] = df['pt_employment_status_code'].astype('Int64')\n",
    "df['pt_ethnicity_code']         = df['pt_ethnicity_code'].astype('Int64')\n",
    "df['sc_legal_status']           = df['sc_legal_status'].astype('Int64')\n",
    "df['pt_marital_status_code']    = df['pt_marital_status_code'].astype('Int64')\n",
    "df['sc_client_present']         = df['sc_client_present'].astype('Int64')\n",
    "df['sc_associate_present']      = df['sc_associate_present'].astype('Int64')\n",
    "df['org_code']                  = df['org_code'].astype('Int64')\n",
    "df['pt_residential_postcode']   = df['pt_residential_postcode'].astype('Int64')\n",
    "df['SA2_MAINCODE']              = df['SA2_MAINCODE'].astype('Int64')\n",
    "df['program_code']              = df['program_code'].astype('Int64')\n",
    "df['district_code']             = df['district_code'].astype('Int64')\n",
    "df['pt_sex_code']               = df['pt_sex_code'].astype('Int64')\n",
    "df['stream_code']               = df['stream_code'].astype('Int64')\n",
    "df['referral_id']               = df['referral_id'].astype('Int64')"
   ]
  },
  {
   "cell_type": "markdown",
   "id": "190a8d86",
   "metadata": {},
   "source": [
    "## 3. Checks"
   ]
  },
  {
   "cell_type": "code",
   "execution_count": 75,
   "id": "622257be",
   "metadata": {},
   "outputs": [
    {
     "data": {
      "text/plain": [
       "pt_age_on_contact                float64\n",
       "contdate                          object\n",
       "sc_start_time                     object\n",
       "pt_country_of_birth               object\n",
       "pt_date_of_birth_mmyy             object\n",
       "sc_duration                      float64\n",
       "pt_enc_id                         object\n",
       "pt_employment_status_code          Int64\n",
       "pt_employment_status              object\n",
       "sc_session_type                   object\n",
       "pt_residential_health_service     object\n",
       "HSP                               object\n",
       "pt_ethnicity_code                  Int64\n",
       "pt_ethnicity                      object\n",
       "sc_legal_status                    Int64\n",
       "pt_marital_status_code             Int64\n",
       "pt_marital_status                 object\n",
       "sc_medium                         object\n",
       "sc_client_present                  Int64\n",
       "sc_associate_present               Int64\n",
       "se_category                       object\n",
       "org_code                           Int64\n",
       "org                               object\n",
       "pt_residential_postcode            Int64\n",
       "pt_residential_suburb             object\n",
       "SA2_MAINCODE                       Int64\n",
       "SA2_name                          object\n",
       "diag_adm_principal_code           object\n",
       "diag_adm_principal                object\n",
       "diag_adm_principal_ICD            object\n",
       "program_code                       Int64\n",
       "program                           object\n",
       "district_code                      Int64\n",
       "district                          object\n",
       "pt_sex_code                        Int64\n",
       "pt_sex                            object\n",
       "activation_date                   object\n",
       "deactivation_date                 object\n",
       "stream_type                       object\n",
       "stream_code                        Int64\n",
       "stream                            object\n",
       "venue                             object\n",
       "referral_id                        Int64\n",
       "dtype: object"
      ]
     },
     "execution_count": 75,
     "metadata": {},
     "output_type": "execute_result"
    }
   ],
   "source": [
    "df.dtypes"
   ]
  },
  {
   "cell_type": "code",
   "execution_count": 68,
   "id": "0e7cc00d",
   "metadata": {},
   "outputs": [
    {
     "data": {
      "text/plain": [
       "<bound method NDFrame.head of          pt_age_on_contact   contdate  sc_start_time pt_country_of_birth  \\\n",
       "0                     37.0 2023-01-30        45600.0       Not Specified   \n",
       "1                     35.0 2022-12-15        29940.0       Not Specified   \n",
       "2                     23.0 2023-01-20        72000.0       Not Specified   \n",
       "3                     30.0 2023-02-24        29400.0       Not Specified   \n",
       "4                     36.0 2023-06-29        55980.0       Not Specified   \n",
       "...                    ...        ...            ...                 ...   \n",
       "1023939               16.0 2022-07-14        51300.0   Western Australia   \n",
       "1023940               16.0 2022-07-18        49200.0   Western Australia   \n",
       "1023941               16.0 2022-07-19        34200.0   Western Australia   \n",
       "1023942               16.0 2022-08-31        37200.0   Western Australia   \n",
       "1023943               17.0 2023-04-11        43800.0   Western Australia   \n",
       "\n",
       "        pt_date_of_birth_mmyy  sc_duration      pt_enc_id  \\\n",
       "0                      071985          5.0            NaN   \n",
       "1                      071987          1.0            NaN   \n",
       "2                      012000         45.0            NaN   \n",
       "3                      071992          5.0            NaN   \n",
       "4                      071986         10.0            NaN   \n",
       "...                       ...          ...            ...   \n",
       "1023939                092005          1.0  D3R9AMJTZZSQ9   \n",
       "1023940                092005          1.0  D3R9AMJTZZSQ9   \n",
       "1023941                092005          1.0  D3R9AMJTZZSQ9   \n",
       "1023942                092005          5.0  D3R9AMJTZZSQ9   \n",
       "1023943                092005          5.0  D3R9AMJTZZSQ9   \n",
       "\n",
       "         pt_employment_status_code pt_employment_status sc_session_type  ...  \\\n",
       "0                           9999.0            PAS Error      Individual  ...   \n",
       "1                           9999.0            PAS Error      Individual  ...   \n",
       "2                              NaN        Not Specified      Individual  ...   \n",
       "3                           9999.0            PAS Error      Individual  ...   \n",
       "4                              NaN        Not Specified      Individual  ...   \n",
       "...                            ...                  ...             ...  ...   \n",
       "1023939                     9999.0            PAS Error      Individual  ...   \n",
       "1023940                     9999.0            PAS Error      Individual  ...   \n",
       "1023941                     9999.0            PAS Error      Individual  ...   \n",
       "1023942                     9999.0            PAS Error      Individual  ...   \n",
       "1023943                     9999.0            PAS Error      Individual  ...   \n",
       "\n",
       "                                           district pt_sex_code  pt_sex  \\\n",
       "0                                       NORTH METRO         1.0    Male   \n",
       "1                                        EAST METRO         1.0    Male   \n",
       "2                                        EAST METRO         2.0  Female   \n",
       "3                                        EAST METRO         2.0  Female   \n",
       "4                                        EAST METRO         2.0  Female   \n",
       "...                                             ...         ...     ...   \n",
       "1023939  CHILD AND ADOLESCENT HEALTH SERVICE (CAHS)         1.0    Male   \n",
       "1023940  CHILD AND ADOLESCENT HEALTH SERVICE (CAHS)         1.0    Male   \n",
       "1023941  CHILD AND ADOLESCENT HEALTH SERVICE (CAHS)         1.0    Male   \n",
       "1023942  CHILD AND ADOLESCENT HEALTH SERVICE (CAHS)         1.0    Male   \n",
       "1023943  CHILD AND ADOLESCENT HEALTH SERVICE (CAHS)         1.0    Male   \n",
       "\n",
       "        activation_date  deactivation_date           stream_type stream_code  \\\n",
       "0                   NaT                NaT                 ADULT       112.0   \n",
       "1                   NaT                NaT                 ADULT       185.0   \n",
       "2                   NaT                NaT                 ADULT       247.0   \n",
       "3                   NaT                NaT                 ADULT       185.0   \n",
       "4                   NaT                NaT                 ADULT       185.0   \n",
       "...                 ...                ...                   ...         ...   \n",
       "1023939             NaT                NaT  CHILD AND ADOLESCENT        50.0   \n",
       "1023940             NaT                NaT  CHILD AND ADOLESCENT        50.0   \n",
       "1023941             NaT                NaT  CHILD AND ADOLESCENT        50.0   \n",
       "1023942             NaT                NaT  CHILD AND ADOLESCENT        50.0   \n",
       "1023943             NaT                NaT  CHILD AND ADOLESCENT        50.0   \n",
       "\n",
       "                                   stream                 venue  referral_id  \n",
       "0        SCGH MENTAL HEALTH SERVICE ADULT  EMERGENCY DEPARTMENT    8787249.0  \n",
       "1                               RPH ADULT      GENERAL HOSPITAL    8771523.0  \n",
       "2                         CITY EAST ADULT      COMMUNITY CENTRE          NaN  \n",
       "3                               RPH ADULT      GENERAL HOSPITAL    8797655.0  \n",
       "4                               RPH ADULT      GENERAL HOSPITAL    8846817.0  \n",
       "...                                   ...                   ...          ...  \n",
       "1023939                        CAHS-CAMHS                CLINIC    8708739.0  \n",
       "1023940                        CAHS-CAMHS                CLINIC    8708739.0  \n",
       "1023941                        CAHS-CAMHS                CLINIC    8708739.0  \n",
       "1023942                        CAHS-CAMHS                CLINIC    8708739.0  \n",
       "1023943                        CAHS-CAMHS                CLINIC    8814396.0  \n",
       "\n",
       "[1023944 rows x 43 columns]>"
      ]
     },
     "execution_count": 68,
     "metadata": {},
     "output_type": "execute_result"
    }
   ],
   "source": [
    "df.head"
   ]
  }
 ],
 "metadata": {
  "kernelspec": {
   "display_name": "my_env",
   "language": "python",
   "name": "python3"
  },
  "language_info": {
   "codemirror_mode": {
    "name": "ipython",
    "version": 3
   },
   "file_extension": ".py",
   "mimetype": "text/x-python",
   "name": "python",
   "nbconvert_exporter": "python",
   "pygments_lexer": "ipython3",
   "version": "3.13.2"
  }
 },
 "nbformat": 4,
 "nbformat_minor": 5
}
