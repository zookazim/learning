{
 "cells": [
  {
   "cell_type": "markdown",
   "metadata": {},
   "source": [
    "# Pyodbc techniques"
   ]
  },
  {
   "cell_type": "markdown",
   "metadata": {},
   "source": [
    "## 1. Create Connection"
   ]
  },
  {
   "cell_type": "code",
   "execution_count": 40,
   "metadata": {},
   "outputs": [],
   "source": [
    "import pyodbc"
   ]
  },
  {
   "cell_type": "markdown",
   "metadata": {},
   "source": [
    "Connection details;"
   ]
  },
  {
   "cell_type": "code",
   "execution_count": 41,
   "metadata": {},
   "outputs": [],
   "source": [
    "SERVER = \"WSSQL0024\\DIS_DEV\"\n",
    "DATABASE = \"DW_Research_Outputs\"\n",
    "#USERNAME = '<username>'\n",
    "#PASSWORD = '<password>'"
   ]
  },
  {
   "cell_type": "markdown",
   "metadata": {},
   "source": [
    "Establish connection;"
   ]
  },
  {
   "cell_type": "code",
   "execution_count": 42,
   "metadata": {},
   "outputs": [],
   "source": [
    "conn_str = (\"Driver={ODBC Driver 17 for SQL Server};\" f\"Server={SERVER};\" f\"Database={DATABASE};\" \"Trusted_Connection=yes;\" \"LoginTimeout=500;\")\n",
    "conn = pyodbc.connect(conn_str) \n",
    "cursor = conn.cursor()"
   ]
  },
  {
   "cell_type": "markdown",
   "metadata": {},
   "source": [
    "## 2. Using Variables and Passing Parameters"
   ]
  },
  {
   "cell_type": "markdown",
   "metadata": {},
   "source": [
    "### 2.1 Using Literals"
   ]
  },
  {
   "cell_type": "code",
   "execution_count": 43,
   "metadata": {},
   "outputs": [
    {
     "name": "stdout",
     "output_type": "stream",
     "text": [
      "SEIFA\n"
     ]
    }
   ],
   "source": [
    "# Literal\n",
    "sql_query = \"SELECT VariableName FROM [DW_Research_Outputs].[MET].[Vw_MasterVariables] where VariableID = 641\"\n",
    "\n",
    "cursor.execute(sql_query)\n",
    "\n",
    "cur_data = cursor.fetchall()\n",
    "\n",
    "for var_row in cur_data:\n",
    "    print(var_row.VariableName)"
   ]
  },
  {
   "cell_type": "markdown",
   "metadata": {},
   "source": [
    "### 2.2 Using a variable"
   ]
  },
  {
   "cell_type": "code",
   "execution_count": 23,
   "metadata": {},
   "outputs": [
    {
     "name": "stdout",
     "output_type": "stream",
     "text": [
      "SEIFA\n"
     ]
    }
   ],
   "source": [
    "# Format string\n",
    "var_id = 641\n",
    "sql_query = f'''SELECT * FROM [DW_Research_Outputs].[MET].[Vw_MasterVariables] where VariableID = {var_id}'''\n",
    "\n",
    "cursor.execute(sql_query)\n",
    "\n",
    "cur_data = cursor.fetchall()\n",
    "\n",
    "for var_row in cur_data:\n",
    "    print(var_row.VariableName)"
   ]
  },
  {
   "cell_type": "markdown",
   "metadata": {},
   "source": [
    "### 2.3 Using Bind Variables"
   ]
  },
  {
   "cell_type": "code",
   "execution_count": 24,
   "metadata": {},
   "outputs": [
    {
     "name": "stdout",
     "output_type": "stream",
     "text": [
      "SEIFA\n"
     ]
    }
   ],
   "source": [
    "# Bind variables\n",
    "var_id = 641\n",
    "\n",
    "sql_query = 'SELECT * FROM [DW_Research_Outputs].[MET].[Vw_MasterVariables] where VariableID = ?'\n",
    "sql_params = (var_id)\n",
    "\n",
    "cursor.execute(sql_query,sql_params)\n",
    "\n",
    "cur_data = cursor.fetchall()\n",
    "\n",
    "for var_row in cur_data:\n",
    "    print(var_row.VariableName)"
   ]
  },
  {
   "cell_type": "markdown",
   "metadata": {},
   "source": [
    "### 2.4 Using Multiple Bind Variables"
   ]
  },
  {
   "cell_type": "code",
   "execution_count": 25,
   "metadata": {},
   "outputs": [
    {
     "name": "stdout",
     "output_type": "stream",
     "text": [
      "SEIFA\n"
     ]
    }
   ],
   "source": [
    "# Complex Bind variables (integers and text)\n",
    "var_id = 641\n",
    "data_source_name = 'Emergency Data'\n",
    "sql_query = 'SELECT * FROM [DW_Research_Outputs].[MET].[Vw_MasterVariables] where VariableID = ? and DataSourceName = ?'\n",
    "#sql_cmd = 'EXECUTE PRJ.usp_RO_ProjectSqlStore(?,?)'\n",
    "sql_params = (var_id, data_source_name)\n",
    "\n",
    "cursor.execute(sql_query, sql_params)\n",
    "\n",
    "cur_data = cursor.fetchall()\n",
    "\n",
    "for var_row in cur_data:\n",
    "    print(var_row.VariableName)"
   ]
  },
  {
   "cell_type": "markdown",
   "metadata": {},
   "source": [
    "### 2.5 Executing a procedure and passing variables"
   ]
  },
  {
   "cell_type": "code",
   "execution_count": 45,
   "metadata": {},
   "outputs": [
    {
     "data": {
      "text/plain": [
       "<function Cursor.commit>"
      ]
     },
     "execution_count": 45,
     "metadata": {},
     "output_type": "execute_result"
    }
   ],
   "source": [
    "# Complex Bind variables (integers and text)\n",
    "# another example\n",
    "\n",
    "BatchRunId     = 95759\n",
    "ExtractionId   = 3087\n",
    "RunPhase       = \"TypeA\"\n",
    "RunSequence    = 1\n",
    "DataSourceId   = 7\n",
    "SqlDescription = \"\"\n",
    "SqlText        = \"SELECT colA, colB  FROM [DW_Research_Outputs].[PRJ].[ProjectSql]\"\n",
    "\n",
    "\n",
    "sql_query = 'EXECUTE PRJ.usp_RO_ProjectSqlStore ?,?,?,?,?,?,?'\n",
    "sql_params = (BatchRunId,ExtractionId,RunPhase,RunSequence,DataSourceId,SqlDescription,SqlText)\n",
    "\n",
    "cur_out = cursor.execute(sql_query, sql_params)\n",
    "#cursor.execute('EXECUTE PRJ.usp_RO_ProjectSqlStore ?',(80972,))\n",
    "cursor.commit()\n",
    "\n",
    "# cur_data = cursor.fetchall()\n",
    "\n",
    "# for var_row in cur_data:\n",
    "#     print(var_row.VariableName)"
   ]
  },
  {
   "cell_type": "code",
   "execution_count": 46,
   "metadata": {},
   "outputs": [],
   "source": [
    "cursor.commit()"
   ]
  },
  {
   "cell_type": "code",
   "execution_count": null,
   "metadata": {},
   "outputs": [],
   "source": []
  }
 ],
 "metadata": {
  "kernelspec": {
   "display_name": "my_env",
   "language": "python",
   "name": "python3"
  },
  "language_info": {
   "codemirror_mode": {
    "name": "ipython",
    "version": 3
   },
   "file_extension": ".py",
   "mimetype": "text/x-python",
   "name": "python",
   "nbconvert_exporter": "python",
   "pygments_lexer": "ipython3",
   "version": "3.8.3"
  },
  "orig_nbformat": 4
 },
 "nbformat": 4,
 "nbformat_minor": 2
}
