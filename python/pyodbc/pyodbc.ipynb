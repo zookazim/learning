{
 "cells": [
  {
   "cell_type": "markdown",
   "metadata": {},
   "source": [
    "# Pyodbc techniques"
   ]
  },
  {
   "cell_type": "markdown",
   "metadata": {},
   "source": [
    "## 1. Create Connection"
   ]
  },
  {
   "cell_type": "code",
   "execution_count": 1,
   "metadata": {},
   "outputs": [],
   "source": [
    "import pyodbc"
   ]
  },
  {
   "cell_type": "markdown",
   "metadata": {},
   "source": [
    "Connection details;"
   ]
  },
  {
   "cell_type": "code",
   "execution_count": 2,
   "metadata": {},
   "outputs": [],
   "source": [
    "SERVER = \"WSSQL0024\\DIS_DEV\"\n",
    "DATABASE = \"DW_Research_Outputs\"\n",
    "#USERNAME = '<username>'\n",
    "#PASSWORD = '<password>'"
   ]
  },
  {
   "cell_type": "markdown",
   "metadata": {},
   "source": [
    "Establish connection;"
   ]
  },
  {
   "cell_type": "code",
   "execution_count": 3,
   "metadata": {},
   "outputs": [],
   "source": [
    "conn_str = (\"Driver={ODBC Driver 17 for SQL Server};\" f\"Server={SERVER};\" f\"Database={DATABASE};\" \"Trusted_Connection=yes;\" \"LoginTimeout=500;\")\n",
    "conn = pyodbc.connect(conn_str) \n",
    "cursor = conn.cursor()"
   ]
  },
  {
   "cell_type": "markdown",
   "metadata": {},
   "source": [
    "## 2. Using Variables and Passing Parameters"
   ]
  },
  {
   "cell_type": "markdown",
   "metadata": {},
   "source": [
    "### 2.1 Using Literals"
   ]
  },
  {
   "cell_type": "code",
   "execution_count": 4,
   "metadata": {},
   "outputs": [
    {
     "name": "stdout",
     "output_type": "stream",
     "text": [
      "SEIFA\n"
     ]
    }
   ],
   "source": [
    "# Literal\n",
    "sql_query = \"SELECT VariableName FROM [DW_Research_Outputs].[MET].[Vw_MasterVariables] where VariableID = 641\"\n",
    "\n",
    "cursor.execute(sql_query)\n",
    "\n",
    "cur_data = cursor.fetchall()\n",
    "\n",
    "for var_row in cur_data:\n",
    "    print(var_row.VariableName)"
   ]
  },
  {
   "cell_type": "markdown",
   "metadata": {},
   "source": [
    "### 2.2 Using a variable"
   ]
  },
  {
   "cell_type": "code",
   "execution_count": 5,
   "metadata": {},
   "outputs": [
    {
     "name": "stdout",
     "output_type": "stream",
     "text": [
      "SEIFA\n"
     ]
    }
   ],
   "source": [
    "# Format string\n",
    "var_id = 641\n",
    "sql_query = f'''SELECT * FROM [DW_Research_Outputs].[MET].[Vw_MasterVariables] where VariableID = {var_id}'''\n",
    "\n",
    "cursor.execute(sql_query)\n",
    "\n",
    "cur_data = cursor.fetchall()\n",
    "\n",
    "for var_row in cur_data:\n",
    "    print(var_row.VariableName)"
   ]
  },
  {
   "cell_type": "markdown",
   "metadata": {},
   "source": [
    "### 2.3 Using Bind Variables"
   ]
  },
  {
   "cell_type": "code",
   "execution_count": 6,
   "metadata": {},
   "outputs": [
    {
     "name": "stdout",
     "output_type": "stream",
     "text": [
      "SEIFA\n"
     ]
    }
   ],
   "source": [
    "# Bind variables\n",
    "var_id = 641\n",
    "\n",
    "sql_query = 'SELECT * FROM [DW_Research_Outputs].[MET].[Vw_MasterVariables] where VariableID = ?'\n",
    "sql_params = (var_id)\n",
    "\n",
    "cursor.execute(sql_query,sql_params)\n",
    "\n",
    "cur_data = cursor.fetchall()\n",
    "\n",
    "for var_row in cur_data:\n",
    "    print(var_row.VariableName)"
   ]
  },
  {
   "cell_type": "markdown",
   "metadata": {},
   "source": [
    "### 2.4 Using Multiple Bind Variables"
   ]
  },
  {
   "cell_type": "code",
   "execution_count": 7,
   "metadata": {},
   "outputs": [
    {
     "name": "stdout",
     "output_type": "stream",
     "text": [
      "SEIFA\n"
     ]
    }
   ],
   "source": [
    "# Complex Bind variables (integers and text)\n",
    "var_id = 641\n",
    "data_source_name = 'Emergency Data'\n",
    "sql_query = 'SELECT * FROM [DW_Research_Outputs].[MET].[Vw_MasterVariables] where VariableID = ? and DataSourceName = ?'\n",
    "#sql_cmd = 'EXECUTE PRJ.usp_RO_ProjectSqlStore(?,?)'\n",
    "sql_params = (var_id, data_source_name)\n",
    "\n",
    "cursor.execute(sql_query, sql_params)\n",
    "\n",
    "cur_data = cursor.fetchall()\n",
    "\n",
    "for var_row in cur_data:\n",
    "    print(var_row.VariableName)"
   ]
  },
  {
   "cell_type": "markdown",
   "metadata": {},
   "source": [
    "### 2.5 Executing a procedure and passing variables"
   ]
  },
  {
   "cell_type": "markdown",
   "metadata": {},
   "source": [
    "#### 2.5.1 Execution example 1"
   ]
  },
  {
   "cell_type": "code",
   "execution_count": 45,
   "metadata": {},
   "outputs": [
    {
     "data": {
      "text/plain": [
       "<function Cursor.commit>"
      ]
     },
     "execution_count": 45,
     "metadata": {},
     "output_type": "execute_result"
    }
   ],
   "source": [
    "# Complex Bind variables (integers and text)\n",
    "# another example\n",
    "\n",
    "BatchRunId     = 95759\n",
    "ExtractionId   = 3087\n",
    "RunPhase       = \"TypeA\"\n",
    "RunSequence    = 1\n",
    "DataSourceId   = 7\n",
    "SqlDescription = \"\"\n",
    "SqlText        = \"SELECT colA, colB  FROM [DW_Research_Outputs].[PRJ].[ProjectSql]\"\n",
    "\n",
    "\n",
    "sql_query = 'EXECUTE PRJ.usp_RO_ProjectSqlStore ?,?,?,?,?,?,?'\n",
    "sql_params = (BatchRunId,ExtractionId,RunPhase,RunSequence,DataSourceId,SqlDescription,SqlText)\n",
    "\n",
    "cur_out = cursor.execute(sql_query, sql_params)\n",
    "#cursor.execute('EXECUTE PRJ.usp_RO_ProjectSqlStore ?',(80972,))\n",
    "cursor.commit()\n",
    "\n",
    "# cur_data = cursor.fetchall()\n",
    "\n",
    "# for var_row in cur_data:\n",
    "#     print(var_row.VariableName)"
   ]
  },
  {
   "cell_type": "code",
   "execution_count": 46,
   "metadata": {},
   "outputs": [],
   "source": [
    "cursor.commit()"
   ]
  },
  {
   "cell_type": "markdown",
   "metadata": {},
   "source": [
    "#### 2.5.2 Execution example 2"
   ]
  },
  {
   "cell_type": "code",
   "execution_count": 6,
   "metadata": {},
   "outputs": [
    {
     "ename": "SystemError",
     "evalue": "<class 'pyodbc.ProgrammingError'> returned a result with an error set",
     "output_type": "error",
     "traceback": [
      "\u001b[1;31m---------------------------------------------------------------------------\u001b[0m",
      "\u001b[1;31mUnicodeDecodeError\u001b[0m                        Traceback (most recent call last)",
      "\u001b[1;32mc:\\Users\\he157349\\Anaconda3\\lib\\encodings\\utf_16_le.py\u001b[0m in \u001b[0;36mdecode\u001b[1;34m(input, errors)\u001b[0m\n\u001b[0;32m     15\u001b[0m \u001b[1;32mdef\u001b[0m \u001b[0mdecode\u001b[0m\u001b[1;33m(\u001b[0m\u001b[0minput\u001b[0m\u001b[1;33m,\u001b[0m \u001b[0merrors\u001b[0m\u001b[1;33m=\u001b[0m\u001b[1;34m'strict'\u001b[0m\u001b[1;33m)\u001b[0m\u001b[1;33m:\u001b[0m\u001b[1;33m\u001b[0m\u001b[1;33m\u001b[0m\u001b[0m\n\u001b[1;32m---> 16\u001b[1;33m     \u001b[1;32mreturn\u001b[0m \u001b[0mcodecs\u001b[0m\u001b[1;33m.\u001b[0m\u001b[0mutf_16_le_decode\u001b[0m\u001b[1;33m(\u001b[0m\u001b[0minput\u001b[0m\u001b[1;33m,\u001b[0m \u001b[0merrors\u001b[0m\u001b[1;33m,\u001b[0m \u001b[1;32mTrue\u001b[0m\u001b[1;33m)\u001b[0m\u001b[1;33m\u001b[0m\u001b[1;33m\u001b[0m\u001b[0m\n\u001b[0m\u001b[0;32m     17\u001b[0m \u001b[1;33m\u001b[0m\u001b[0m\n",
      "\u001b[1;31mUnicodeDecodeError\u001b[0m: 'utf-16-le' codec can't decode bytes in position 2218-2219: illegal encoding",
      "\nThe above exception was the direct cause of the following exception:\n",
      "\u001b[1;31mSystemError\u001b[0m                               Traceback (most recent call last)",
      "\u001b[1;32m<ipython-input-6-0060dac9a45f>\u001b[0m in \u001b[0;36m<module>\u001b[1;34m\u001b[0m\n\u001b[0;32m     10\u001b[0m \u001b[0msql_params\u001b[0m \u001b[1;33m=\u001b[0m \u001b[1;33m(\u001b[0m\u001b[0mBatchRunId\u001b[0m\u001b[1;33m,\u001b[0m \u001b[0mTaskId\u001b[0m\u001b[1;33m,\u001b[0m \u001b[0mRunPhase\u001b[0m\u001b[1;33m)\u001b[0m\u001b[1;33m\u001b[0m\u001b[1;33m\u001b[0m\u001b[0m\n\u001b[0;32m     11\u001b[0m \u001b[1;33m\u001b[0m\u001b[0m\n\u001b[1;32m---> 12\u001b[1;33m \u001b[0mcur_out\u001b[0m \u001b[1;33m=\u001b[0m \u001b[0mcursor\u001b[0m\u001b[1;33m.\u001b[0m\u001b[0mexecute\u001b[0m\u001b[1;33m(\u001b[0m\u001b[0msql_cmd\u001b[0m\u001b[1;33m,\u001b[0m \u001b[0msql_params\u001b[0m\u001b[1;33m)\u001b[0m\u001b[1;33m\u001b[0m\u001b[1;33m\u001b[0m\u001b[0m\n\u001b[0m\u001b[0;32m     13\u001b[0m \u001b[0mcursor\u001b[0m\u001b[1;33m.\u001b[0m\u001b[0mcommit\u001b[0m\u001b[1;33m(\u001b[0m\u001b[1;33m)\u001b[0m\u001b[1;33m\u001b[0m\u001b[1;33m\u001b[0m\u001b[0m\n",
      "\u001b[1;31mSystemError\u001b[0m: <class 'pyodbc.ProgrammingError'> returned a result with an error set"
     ]
    }
   ],
   "source": [
    "BatchRunId     = 113150\n",
    "ExtractionId   = 6096\n",
    "RunPhase       = \"cohort_select_checks\"\n",
    "RunSequence    = 1\n",
    "DataSourceId   = 7\n",
    "TaskId         = 1104\n",
    "\n",
    "# Build the SQL statement and params\n",
    "sql_cmd = 'EXECUTE DW_Research_Outputs.PRJ.usp_RO_ProjectSqlRunPhase ?,?,?'\n",
    "sql_params = (BatchRunId, TaskId, RunPhase)\n",
    "\n",
    "cur_out = cursor.execute(sql_cmd, sql_params)\n",
    "cursor.commit()"
   ]
  }
 ],
 "metadata": {
  "kernelspec": {
   "display_name": "my_env",
   "language": "python",
   "name": "python3"
  },
  "language_info": {
   "codemirror_mode": {
    "name": "ipython",
    "version": 3
   },
   "file_extension": ".py",
   "mimetype": "text/x-python",
   "name": "python",
   "nbconvert_exporter": "python",
   "pygments_lexer": "ipython3",
   "version": "3.8.3"
  },
  "orig_nbformat": 4
 },
 "nbformat": 4,
 "nbformat_minor": 2
}
