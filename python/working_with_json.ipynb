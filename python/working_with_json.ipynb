{
 "cells": [
  {
   "attachments": {},
   "cell_type": "markdown",
   "metadata": {},
   "source": [
    "# Demonstrating Python and JSON"
   ]
  },
  {
   "cell_type": "code",
   "execution_count": 8,
   "metadata": {},
   "outputs": [],
   "source": [
    "import json"
   ]
  },
  {
   "cell_type": "code",
   "execution_count": 1,
   "metadata": {},
   "outputs": [],
   "source": [
    "MyRecordList = []"
   ]
  },
  {
   "cell_type": "code",
   "execution_count": 2,
   "metadata": {},
   "outputs": [],
   "source": [
    "MyRecord = {\"name\":\"Dave\", \"dob\":\"01/12/2001\",\"sex\":\"1\"}"
   ]
  },
  {
   "cell_type": "code",
   "execution_count": 4,
   "metadata": {},
   "outputs": [],
   "source": [
    "MyRecordList.append(MyRecord.copy())"
   ]
  },
  {
   "cell_type": "code",
   "execution_count": 5,
   "metadata": {},
   "outputs": [
    {
     "data": {
      "text/plain": [
       "[{'name': 'Dave', 'dob': '01/12/2001', 'sex': '1'}]"
      ]
     },
     "execution_count": 5,
     "metadata": {},
     "output_type": "execute_result"
    }
   ],
   "source": [
    "MyRecordList"
   ]
  },
  {
   "cell_type": "code",
   "execution_count": 6,
   "metadata": {},
   "outputs": [],
   "source": [
    "MyRecord = {\"name\":\"Luke\", \"dob\":\"15/12/2005\",\"sex\":\"1\"}\n",
    "MyRecordList.append(MyRecord.copy())"
   ]
  },
  {
   "cell_type": "code",
   "execution_count": 7,
   "metadata": {},
   "outputs": [
    {
     "data": {
      "text/plain": [
       "[{'name': 'Dave', 'dob': '01/12/2001', 'sex': '1'},\n",
       " {'name': 'Luke', 'dob': '15/12/2005', 'sex': '1'}]"
      ]
     },
     "execution_count": 7,
     "metadata": {},
     "output_type": "execute_result"
    }
   ],
   "source": [
    "MyRecordList"
   ]
  },
  {
   "cell_type": "code",
   "execution_count": 15,
   "metadata": {},
   "outputs": [],
   "source": [
    "# Convert list to json\n",
    "MyJsonStr = json.dumps(MyRecordList)"
   ]
  },
  {
   "cell_type": "code",
   "execution_count": 16,
   "metadata": {},
   "outputs": [
    {
     "data": {
      "text/plain": [
       "'[{\"name\": \"Dave\", \"dob\": \"01/12/2001\", \"sex\": \"1\"}, {\"name\": \"Luke\", \"dob\": \"15/12/2005\", \"sex\": \"1\"}]'"
      ]
     },
     "execution_count": 16,
     "metadata": {},
     "output_type": "execute_result"
    }
   ],
   "source": [
    "MyJsonStr"
   ]
  },
  {
   "attachments": {},
   "cell_type": "markdown",
   "metadata": {},
   "source": [
    "## 2. Demonstrate JSON schema"
   ]
  },
  {
   "attachments": {},
   "cell_type": "markdown",
   "metadata": {},
   "source": [
    "### 2.1 Creating a function to validate a string against a schema"
   ]
  },
  {
   "cell_type": "code",
   "execution_count": 1,
   "metadata": {},
   "outputs": [],
   "source": [
    "import json\n",
    "import jsonschema\n",
    "from jsonschema.exceptions import ValidationError\n",
    "\n",
    "def validate_json_string(json_string, schema):\n",
    "    try:\n",
    "        json_data = json.loads(json_string)\n",
    "        jsonschema.validate(instance=json_data, schema=schema)\n",
    "        return True, None\n",
    "    except ValidationError as e:\n",
    "        return False, str(e)\n"
   ]
  },
  {
   "attachments": {},
   "cell_type": "markdown",
   "metadata": {},
   "source": [
    "### 2.2 Create an example JSON"
   ]
  },
  {
   "cell_type": "code",
   "execution_count": 6,
   "metadata": {},
   "outputs": [],
   "source": [
    "\n",
    "# Usage example\n",
    "json_str = '{\"project\": {\"id\": \"p2\", \"proj_no\": \"202008.03\"}}'\n",
    "schema = {\n",
    "    \"type\": \"object\",\n",
    "    \"properties\": {\n",
    "        \"project\": {\n",
    "            \"type\": \"object\",\n",
    "            \"properties\": {\n",
    "                \"id\": {\"type\": \"string\"},\n",
    "                \"proj_no\": {\"type\": \"string\"}\n",
    "            },\n",
    "            \"required\": [\"id\", \"proj_no\"]\n",
    "        }\n",
    "    },\n",
    "    \"required\": [\"project\"]\n",
    "}\n",
    "\n"
   ]
  },
  {
   "cell_type": "code",
   "execution_count": 10,
   "metadata": {},
   "outputs": [],
   "source": [
    "# ------------------------------------------\n",
    "# Alternate to loading schema string above\n",
    "# ------------------------------------------\n",
    "\n",
    "# load schema from a file \n",
    "with open('./jinja_and_json/project_schema.json') as f:\n",
    "    schema = json.load(f)"
   ]
  },
  {
   "attachments": {},
   "cell_type": "markdown",
   "metadata": {},
   "source": [
    "### 2.3 Call the function to validate json"
   ]
  },
  {
   "cell_type": "code",
   "execution_count": 11,
   "metadata": {},
   "outputs": [
    {
     "name": "stdout",
     "output_type": "stream",
     "text": [
      "Validation Result: False\n",
      "Error Message: 'task_no' is a required property\n",
      "\n",
      "Failed validating 'required' in schema['properties']['project']:\n",
      "    {'properties': {'dataset_specs': {'items': {'properties': {'criteria': {'items': {'properties': {'condition_type': {'type': 'string'},\n",
      "                                                                                                     'field_data_type': {'type': 'string'},\n",
      "                                                                                                     'field_name': {'type': 'string'},\n",
      "                                                                                                     'is_list': {'type': 'string'},\n",
      "                                                                                                     'value': {'type': 'string'}},\n",
      "                                                                                      'required': ['field_name',\n",
      "                                                                                                   'value',\n",
      "                                                                                                   'field_data_type',\n",
      "                                                                                                   'is_list',\n",
      "                                                                                                   'condition_type'],\n",
      "                                                                                      'type': 'object'},\n",
      "                                                                            'type': 'array'},\n",
      "                                                               'dat_id': {'type': 'string'},\n",
      "                                                               'db_fields_for_extraction': {'items': {'type': 'string'},\n",
      "                                                                                            'type': 'array'},\n",
      "                                                               'grp_id': {'type': 'string'},\n",
      "                                                               'id': {'type': 'string'},\n",
      "                                                               'lnk_src_keys': {'items': {'type': 'string'},\n",
      "                                                                                'type': 'array'},\n",
      "                                                               'table_name_for_extraction': {'type': 'string'},\n",
      "                                                               'variables_requested': {'items': {'type': 'string'},\n",
      "                                                                                       'type': 'array'}},\n",
      "                                                'required': ['id',\n",
      "                                                             'grp_id',\n",
      "                                                             'dat_id',\n",
      "                                                             'table_name_for_extraction',\n",
      "                                                             'lnk_src_keys',\n",
      "                                                             'variables_requested',\n",
      "                                                             'db_fields_for_extraction',\n",
      "                                                             'criteria'],\n",
      "                                                'type': 'object'},\n",
      "                                      'type': 'array'},\n",
      "                    'id': {'type': 'string'},\n",
      "                    'princ_invest': {'type': 'string'},\n",
      "                    'proj_no': {'type': 'string'},\n",
      "                    'proj_title': {'type': 'string'},\n",
      "                    'proj_type': {'type': 'string'},\n",
      "                    'study_group_specs': {'items': {'properties': {'checks': {'items': {'properties': {'chk_col': {'type': 'string'},\n",
      "                                                                                                       'chk_type': {'type': 'string'},\n",
      "                                                                                                       'field_data_type': {'type': 'string'}},\n",
      "                                                                                        'required': ['chk_col',\n",
      "                                                                                                     'field_data_type',\n",
      "                                                                                                     'chk_type'],\n",
      "                                                                                        'type': 'object'},\n",
      "                                                                              'type': 'array'},\n",
      "                                                                   'criteria': {'items': {'properties': {'condition_type': {'type': 'string'},\n",
      "                                                                                                         'field_data_type': {'type': 'string'},\n",
      "                                                                                                         'field_name': {'type': 'string'},\n",
      "                                                                                                         'is_list': {'type': 'string'},\n",
      "                                                                                                         'value': {'anyOf': [{'type': 'string'},\n",
      "                                                                                                                             {'items': {'type': 'string'},\n",
      "                                                                                                                              'type': 'array'}]}},\n",
      "                                                                                          'required': ['field_name',\n",
      "                                                                                                       'value',\n",
      "                                                                                                       'field_data_type',\n",
      "                                                                                                       'is_list',\n",
      "                                                                                                       'condition_type'],\n",
      "                                                                                          'type': 'object'},\n",
      "                                                                                'type': 'array'},\n",
      "                                                                   'dat_id': {'type': 'string'},\n",
      "                                                                   'description': {'type': 'string'},\n",
      "                                                                   'id': {'type': 'integer'},\n",
      "                                                                   'insert_into_table_name': {'type': 'string'},\n",
      "                                                                   'lnk_src': {'type': 'string'},\n",
      "                                                                   'lnk_src_keys': {'items': {'type': 'string'},\n",
      "                                                                                    'type': 'array'},\n",
      "                                                                   'name': {'type': 'string'},\n",
      "                                                                   'table_name_for_extraction': {'type': 'string'}},\n",
      "                                                    'required': ['id',\n",
      "                                                                 'name',\n",
      "                                                                 'description',\n",
      "                                                                 'dat_id',\n",
      "                                                                 'table_name_for_extraction',\n",
      "                                                                 'insert_into_table_name',\n",
      "                                                                 'lnk_src_keys',\n",
      "                                                                 'lnk_src',\n",
      "                                                                 'criteria',\n",
      "                                                                 'checks'],\n",
      "                                                    'type': 'object'},\n",
      "                                          'type': 'array'},\n",
      "                    'task_no': {'type': 'string'}},\n",
      "     'required': ['id',\n",
      "                  'proj_no',\n",
      "                  'task_no',\n",
      "                  'proj_type',\n",
      "                  'proj_title',\n",
      "                  'princ_invest',\n",
      "                  'study_group_specs',\n",
      "                  'dataset_specs'],\n",
      "     'type': 'object'}\n",
      "\n",
      "On instance['project']:\n",
      "    {'id': 'p2', 'proj_no': '202008.03'}\n"
     ]
    }
   ],
   "source": [
    "result, error_message = validate_json_string(json_str, schema)\n",
    "print(\"Validation Result:\", result)\n",
    "print(\"Error Message:\", error_message)"
   ]
  }
 ],
 "metadata": {
  "kernelspec": {
   "display_name": "my_env",
   "language": "python",
   "name": "python3"
  },
  "language_info": {
   "codemirror_mode": {
    "name": "ipython",
    "version": 3
   },
   "file_extension": ".py",
   "mimetype": "text/x-python",
   "name": "python",
   "nbconvert_exporter": "python",
   "pygments_lexer": "ipython3",
   "version": "3.8.3"
  },
  "orig_nbformat": 4
 },
 "nbformat": 4,
 "nbformat_minor": 2
}
