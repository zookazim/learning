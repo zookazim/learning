{
 "cells": [
  {
   "attachments": {},
   "cell_type": "markdown",
   "metadata": {},
   "source": [
    "# Research Outputs Extraction"
   ]
  },
  {
   "attachments": {},
   "cell_type": "markdown",
   "metadata": {},
   "source": [
    "## 1. Project Setup"
   ]
  },
  {
   "cell_type": "code",
   "execution_count": 5,
   "metadata": {},
   "outputs": [],
   "source": [
    "# Libraries\n",
    "import json\n",
    "import jsonschema"
   ]
  },
  {
   "attachments": {},
   "cell_type": "markdown",
   "metadata": {},
   "source": [
    "### 1.1 Project Configurations"
   ]
  },
  {
   "cell_type": "code",
   "execution_count": 2,
   "metadata": {},
   "outputs": [],
   "source": [
    "# Project Config\n",
    "# proj_json_file = r\"C:\\Users\\zooka\\git_repos\\learning\\python\\jinja_and_json\\202008.03_001_project.json\"\n",
    "# proj_dir = r\"C:\\Users\\zooka\\git_repos\\learning\\python\\jinja_and_json\"\n",
    "\n",
    "proj_json_file = r\"X:\\dlbprojects\\2022\\202203.03\\001\\extract\\202203.03_001_project.json\"\n",
    "\n",
    "#proj_json_file = r\"C:\\Users\\he157349\\source\\repos\\learning\\python\\jinja_and_json\\202008.03_001_project.json\"\n",
    "#proj_dir = r\"C:\\Users\\he157349\\source\\repos\\learning\\python\\jinja_and_json\""
   ]
  },
  {
   "attachments": {},
   "cell_type": "markdown",
   "metadata": {},
   "source": [
    "### 1.2 Load Configurations"
   ]
  },
  {
   "cell_type": "code",
   "execution_count": 3,
   "metadata": {},
   "outputs": [],
   "source": [
    "# Opening JSON file\n",
    "f = open(proj_json_file)\n",
    "\n",
    "# Returns JSON object as a dictionary\n",
    "proj_json = json.load(f)\n",
    "\n",
    "# Closing file\n",
    "f.close()"
   ]
  },
  {
   "attachments": {},
   "cell_type": "markdown",
   "metadata": {},
   "source": [
    "#### 1.3 Call JSON to SQL function"
   ]
  },
  {
   "attachments": {},
   "cell_type": "markdown",
   "metadata": {},
   "source": [
    "1.3.1 Test the incoming JSON against the schema"
   ]
  },
  {
   "cell_type": "code",
   "execution_count": null,
   "metadata": {},
   "outputs": [],
   "source": []
  },
  {
   "attachments": {},
   "cell_type": "markdown",
   "metadata": {},
   "source": [
    "1.3.2 Load the JSON document"
   ]
  },
  {
   "cell_type": "code",
   "execution_count": 4,
   "metadata": {},
   "outputs": [
    {
     "name": "stdout",
     "output_type": "stream",
     "text": [
      "------- Error -------\n",
      "'study_group_specs'\n",
      "Response code:500\n",
      "Error code description:Internal Server Error\n"
     ]
    }
   ],
   "source": [
    "import requests\n",
    "\n",
    "#url_prod = \"https://rosqlgenerator.azurewebsites.net/api/RoSqlGenerator\"\n",
    "url_dev = \"http://localhost:7071/api/RoSqlGenerator\"\n",
    "\n",
    "# Convert json doc to string for Azure Function\n",
    "proj_string = json.dumps(proj_json)\n",
    "\n",
    "# Call Azure function\n",
    "response = requests.request(\"GET\", url_dev, data=proj_string)\n",
    "\n",
    "# Check the response and show error if necessary\n",
    "if not(response.status_code == 200):\n",
    "    print('------- Error -------')\n",
    "    print(response.text)\n",
    "    print(\"Response code:{}\".format(response.status_code))\n",
    "    print(\"Error code description:{}\".format(response.reason))\n",
    "else:\n",
    "    # Load all sql statements into a list of records (dict) one per sql statement\n",
    "    proj_sql = json.loads(response.text)\n",
    "    print('Success')"
   ]
  },
  {
   "cell_type": "code",
   "execution_count": 225,
   "metadata": {},
   "outputs": [
    {
     "name": "stdout",
     "output_type": "stream",
     "text": [
      "\n",
      "\n",
      "----------------------------------------------------\n",
      "-- Cohort Selection\n",
      "----------------------------------------------------\n",
      "-- Proj ID : \n",
      "-- Proj No : 202008.03\n",
      "-- Task No : 001\n",
      "-- Title   : Ovarian Cancer\n",
      "-- Principle Investigator: Prof Penelope Webb\n",
      "----------------------------------------------------\n",
      "INSERT INTO DW_Research_Outputs.PRJ.CohortSelect\n",
      "       (\n",
      "         CohId,\n",
      "         LnkSrc,                 \n",
      "         LnkSrcKey1     \n",
      "       )\n",
      "\n",
      "SELECT '1234'  as CohId,\n",
      "       'CANC'  as LnkSrc,        TumourID as LnkSrcKey1    \n",
      "\n",
      "  FROM DW_Research_Outputs.WACR.Vw_Cancer\n",
      "\n",
      " WHERE DiagnosisDate >= CAST('19840101' as date)\n",
      "   AND DiagnosisDate <= CAST('20201231' as date)\n",
      "   AND Behaviour = '3'\n",
      "   AND (   CancerType like 'C56%'\n",
      "        OR CancerType like 'C48.1%'\n",
      "        OR CancerType like 'C48.2%'\n",
      "        OR CancerType like 'C48.8%'\n",
      "        OR CancerType like 'C57%'\n",
      "       )\n",
      "   AND (   TumourSiteCode like 'C481%'\n",
      "        OR TumourSiteCode like 'C482%'\n",
      "        OR TumourSiteCode like 'C488%'\n",
      "       )\n",
      ";\n",
      "\n",
      "\n",
      "\n",
      "----------------------------------------------------\n",
      "-- Cohort Selection\n",
      "----------------------------------------------------\n",
      "-- Proj ID : \n",
      "-- Proj No : 202008.03\n",
      "-- Task No : 001\n",
      "-- Title   : Ovarian Cancer\n",
      "-- Principle Investigator: Prof Penelope Webb\n",
      "----------------------------------------------------\n",
      "INSERT INTO DW_Research_Outputs.PRJ.CohortSelect\n",
      "       (\n",
      "         CohId,\n",
      "         LnkSrc,                 \n",
      "         LnkSrcKey1     \n",
      "       )\n",
      "\n",
      "SELECT '1235'  as CohId,\n",
      "       'CANC'  as LnkSrc,        TumourID as LnkSrcKey1    \n",
      "\n",
      "  FROM DW_Transformed.WACR.CancerMasterfile\n",
      "\n",
      " WHERE DiagnosisDate >= CAST('19840101' as date)\n",
      "   AND DiagnosisDate <= CAST('20201231' as date)\n",
      "   AND (   TumourSiteCode like 'C569%'\n",
      "        OR TumourSiteCode like 'C570%'\n",
      "        OR TumourSiteCode like 'C571%'\n",
      "        OR TumourSiteCode like 'C572%'\n",
      "        OR TumourSiteCode like 'C574%'\n",
      "        OR TumourSiteCode like 'C577%'\n",
      "        OR TumourSiteCode like 'C578%'\n",
      "        OR TumourSiteCode like 'C579%'\n",
      "        OR TumourSiteCode like 'C481%'\n",
      "        OR TumourSiteCode like 'C482%'\n",
      "        OR TumourSiteCode like 'C488%'\n",
      "       )\n",
      "   AND Behaviour = '1'\n",
      "   AND substring(DiagnosisPostcode,1,1) = '6'\n",
      "   AND PersonValid = '1'\n",
      "   AND TumourValid = '1'\n",
      ";\n",
      "\n"
     ]
    }
   ],
   "source": [
    "# Loop through all sql records and return extract data sql only\n",
    "for rec_sql in proj_sql:\n",
    "    if rec_sql.get('sql_type') == 'cohort_select':\n",
    "      print(rec_sql['sql_txt'])"
   ]
  }
 ],
 "metadata": {
  "kernelspec": {
   "display_name": "my_env",
   "language": "python",
   "name": "python3"
  },
  "language_info": {
   "codemirror_mode": {
    "name": "ipython",
    "version": 3
   },
   "file_extension": ".py",
   "mimetype": "text/x-python",
   "name": "python",
   "nbconvert_exporter": "python",
   "pygments_lexer": "ipython3",
   "version": "3.8.3"
  },
  "orig_nbformat": 4
 },
 "nbformat": 4,
 "nbformat_minor": 2
}
