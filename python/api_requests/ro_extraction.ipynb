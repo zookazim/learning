{
 "cells": [
  {
   "attachments": {},
   "cell_type": "markdown",
   "metadata": {},
   "source": [
    "# Research Outputs Selection"
   ]
  },
  {
   "attachments": {},
   "cell_type": "markdown",
   "metadata": {},
   "source": [
    "## 1. Project Setup"
   ]
  },
  {
   "cell_type": "code",
   "execution_count": 4,
   "metadata": {},
   "outputs": [],
   "source": [
    "# Libraries\n",
    "import json"
   ]
  },
  {
   "attachments": {},
   "cell_type": "markdown",
   "metadata": {},
   "source": [
    "### 1.1 Project Configurations"
   ]
  },
  {
   "cell_type": "code",
   "execution_count": 1,
   "metadata": {},
   "outputs": [],
   "source": [
    "# Project Config\n",
    "proj_json_file = r\"C:\\Users\\zooka\\git_repos\\learning\\python\\jinja_and_json\\202008.03_001_project.json\"\n",
    "proj_dir = r\"C:\\Users\\zooka\\git_repos\\learning\\python\\jinja_and_json\""
   ]
  },
  {
   "attachments": {},
   "cell_type": "markdown",
   "metadata": {},
   "source": [
    "### 1.2 Load Configurations"
   ]
  },
  {
   "cell_type": "code",
   "execution_count": 7,
   "metadata": {},
   "outputs": [],
   "source": [
    "# Opening JSON file\n",
    "f = open(proj_json_file)\n",
    "\n",
    "# Returns JSON object as a dictionary\n",
    "proj_json = json.load(f)\n",
    "\n",
    "# Closing file\n",
    "f.close()"
   ]
  },
  {
   "attachments": {},
   "cell_type": "markdown",
   "metadata": {},
   "source": [
    "## Project Header"
   ]
  },
  {
   "cell_type": "code",
   "execution_count": 11,
   "metadata": {},
   "outputs": [
    {
     "name": "stdout",
     "output_type": "stream",
     "text": [
      "------------------------\n",
      "Project ID : p2\n",
      "202008.03\n",
      "001\n",
      "Ovarian Cancer\n",
      "Prof Penelope Webb\n",
      "------------------------\n"
     ]
    }
   ],
   "source": [
    "project = proj_json['project']\n",
    "\n",
    "print('------------------------')\n",
    "print('Project ID : ' + project[\"id\"])\n",
    "print(project[\"proj_no\"])\n",
    "print(project[\"task_no\"])\n",
    "print(project[\"proj_title\"])\n",
    "print(project[\"princ_invest\"])\n",
    "print('------------------------')"
   ]
  }
 ],
 "metadata": {
  "kernelspec": {
   "display_name": "my_env",
   "language": "python",
   "name": "python3"
  },
  "language_info": {
   "codemirror_mode": {
    "name": "ipython",
    "version": 3
   },
   "file_extension": ".py",
   "mimetype": "text/x-python",
   "name": "python",
   "nbconvert_exporter": "python",
   "pygments_lexer": "ipython3",
   "version": "3.8.5"
  },
  "orig_nbformat": 4
 },
 "nbformat": 4,
 "nbformat_minor": 2
}
